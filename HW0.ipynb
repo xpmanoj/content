{
 "cells": [
  {
   "cell_type": "markdown",
   "metadata": {},
   "source": [
    "# Homework 0\n",
    "\n",
    "### Due Tuesday, September 10 (but no submission is required)\n",
    "\n",
    "---\n",
    "\n",
    "Welcome to CS109 / STAT121 / AC209 / E-109 (http://cs109.org/).  In this class, we will be using a variety of tools that will require some initial configuration. To ensure everything goes smoothly moving forward, we will setup the majority of those tools in this homework. While some of this will likely be dull, doing it now will enable us to do more exciting work in the weeks that follow without getting bogged down in further software configuration. This homework will not be graded, however it is essential that you complete it timely since it will enable us to set up your accounts. You do not have to hand anything in, with the exception of filling out the online survey. \n",
    "\n",
    "## Class Survey, Piazza, and Introduction\n",
    "\n",
    "**Class Survey**\n",
    "\n",
    "Please complete the mandatory course survey located [here](https://docs.google.com/spreadsheet/viewform?formkey=dFg1ZFJwLWJ6ZWhWR1JJb0tES3lGMEE6MA#gid=0). It should only take a few moments of your time. Once you fill in the survey we will sign you up to the course forum on Piazza and the dropbox system that you will use to hand in the homework. It is imperative that you fill out the survey on time as we use the provided information to sign you up for these services. \n",
    "\n",
    "**Piazza**\n",
    "\n",
    "Go to [Piazza](https://piazza.com/harvard/fall2013/cs109/home) and sign up for the class using your Harvard e-mail address. \n",
    "\n",
    "You will use Piazza as a forum for discussion, to find team members, to arrange appointments, and to ask questions. Piazza should be your primary form of communication with the staff. Use the staff e-mail (staff@cs109.org) only for individual requests, e.g., to excuse yourself from a mandatory guest lecture. All readings, homeworks, and project descriptions will be announced on Piazza first. \n",
    "\n",
    "**Introduction**\n",
    "\n",
    "Once you are signed up to the Piazza course forum, introduce yourself to your classmates and course staff with a follow-up post in the introduction thread. Include your name/nickname, your affiliation, why you are taking this course, and tell us something interesting about yourself (e.g., an industry job, an unusual hobby, past travels, or a cool project you did, etc.). Also tell us whether you have experience with data science. \n",
    "\n",
    "## Programming expectations\n",
    "\n",
    "All the assignments and labs for this class will use Python and, for the most part, the browser-based IPython notebook format you are currently viewing. Knowledge of Python is not a prerequisite for this course, **provided you are comfortable learning on your own as needed**. While we have strived to make the programming component of this course straightforward, we will not devote much time to teaching prorgramming or Python syntax. Basically, you should feel comfortable with:\n",
    "\n",
    "* How to look up Python syntax on Google and StackOverflow.\n",
    "* Basic programming concepts like functions, loops, arrays, dictionaries, strings, and if statements.\n",
    "* How to learn new libraries by reading documentation.\n",
    "* Asking questions on StackOverflow or Piazza.\n",
    "\n",
    "There are many online tutorials to introduce you to scientific python programming. [Here is one](https://github.com/jrjohansson/scientific-python-lectures) that is very nice. Lectures 1-4 are most relevant to this class.\n",
    "\n",
    "## Getting Python\n",
    "\n",
    "You will be using Python throughout the course, including many popular 3rd party Python libraries for scientific computing. [Anaconda](http://continuum.io/downloads) is an easy-to-install bundle of Python and most of these libraries. We recommend that you use Anaconda for this course.\n",
    "\n",
    "Please visit [this page](https://github.com/cs109/content/wiki/Installing-Python) and follow the instructions to set up Python\n",
    "\n",
    "<hline>\n",
    "\n",
    "## Hello, Python\n",
    "\n",
    "The IPython notebook is an application to build interactive computational notebooks. You'll be using them to complete labs and homework. Once you've set up Python, please <a href=https://raw.github.com/cs109/content/master/HW0.ipynb download=\"HW0.ipynb\">download this page</a>, and open it with IPython by typing\n",
    "\n",
    "```\n",
    "ipython notebook <name_of_downloaded_file>\n",
    "```\n",
    "\n",
    "For the rest of the assignment, use your local copy of this page, running on IPython.\n",
    "\n",
    "Notebooks are composed of many \"cells\", which can contain text (like this one), or code (like the one below). Double click on the cell below, and evaluate it by clicking the \"play\" button above, for by hitting shift + enter"
   ]
  },
  {
   "cell_type": "markdown",
   "metadata": {},
   "source": [
    "# Note: This HW was completed in Python 3. Run time errors are expected upon running with Python 2.x."
   ]
  },
  {
   "cell_type": "code",
   "execution_count": null,
   "metadata": {
    "collapsed": false
   },
   "outputs": [],
   "source": [
    "x = [10, 20, 30, 40, 50]\n",
    "for item in x:\n",
    "    print \"Item is \", item"
   ]
  },
  {
   "cell_type": "markdown",
   "metadata": {},
   "source": [
    "## Python Libraries\n",
    "\n",
    "We will be using a several different libraries throughout this course. If you've successfully completed the [installation instructions](https://github.com/cs109/content/wiki/Installing-Python), all of the following statements should run."
   ]
  },
  {
   "cell_type": "code",
   "execution_count": 4,
   "metadata": {
    "collapsed": false
   },
   "outputs": [
    {
     "name": "stdout",
     "output_type": "stream",
     "text": [
      "IPython version:       4.1.2 (need at least 1.0)\n",
      "Numpy version:        1.10.4 (need at least 1.7.1)\n",
      "SciPy version:        0.17.0 (need at least 0.12.0)\n",
      "Pandas version:       0.18.0 (need at least 0.11.0)\n",
      "Mapltolib version:     1.5.1 (need at least 1.2.1)\n",
      "Scikit-Learn version: 0.17.1 (need at least 0.13.1)\n",
      "requests version:      2.9.1 (need at least 1.2.3)\n",
      "NetworkX version:       1.11 (need at least 1.7)\n",
      "BeautifulSoup version: 4.4.1 (need at least 3.2)\n"
     ]
    },
    {
     "ename": "ImportError",
     "evalue": "No module named 'mrjob'",
     "output_type": "error",
     "traceback": [
      "\u001b[0;31m---------------------------------------------------------------------------\u001b[0m",
      "\u001b[0;31mImportError\u001b[0m                               Traceback (most recent call last)",
      "\u001b[0;32m<ipython-input-4-de0e30198d34>\u001b[0m in \u001b[0;36m<module>\u001b[0;34m()\u001b[0m\n\u001b[1;32m     37\u001b[0m \u001b[0;34m\u001b[0m\u001b[0m\n\u001b[1;32m     38\u001b[0m \u001b[0;31m#MrJob is a library to run map reduce jobs on Amazon's computers\u001b[0m\u001b[0;34m\u001b[0m\u001b[0;34m\u001b[0m\u001b[0m\n\u001b[0;32m---> 39\u001b[0;31m \u001b[0;32mimport\u001b[0m \u001b[0mmrjob\u001b[0m\u001b[0;34m\u001b[0m\u001b[0m\n\u001b[0m\u001b[1;32m     40\u001b[0m \u001b[0mprint\u001b[0m \u001b[0;34m(\u001b[0m\u001b[0;34m\"Mr Job version:       %6.6s (need at least 0.4)\"\u001b[0m \u001b[0;34m%\u001b[0m \u001b[0mmrjob\u001b[0m\u001b[0;34m.\u001b[0m\u001b[0m__version__\u001b[0m\u001b[0;34m)\u001b[0m\u001b[0;34m\u001b[0m\u001b[0m\n\u001b[1;32m     41\u001b[0m \u001b[0;34m\u001b[0m\u001b[0m\n",
      "\u001b[0;31mImportError\u001b[0m: No module named 'mrjob'"
     ]
    }
   ],
   "source": [
    "#IPython is what you are using now to run the notebook\n",
    "import IPython\n",
    "print (\"IPython version:      %6.6s (need at least 1.0)\" % IPython.__version__)\n",
    "\n",
    "# Numpy is a library for working with Arrays\n",
    "import numpy as np\n",
    "print (\"Numpy version:        %6.6s (need at least 1.7.1)\" % np.__version__)\n",
    "\n",
    "# SciPy implements many different numerical algorithms\n",
    "import scipy as sp\n",
    "print (\"SciPy version:        %6.6s (need at least 0.12.0)\" % sp.__version__)\n",
    "\n",
    "# Pandas makes working with data tables easier\n",
    "import pandas as pd\n",
    "print (\"Pandas version:       %6.6s (need at least 0.11.0)\" % pd.__version__)\n",
    "\n",
    "# Module for plotting\n",
    "import matplotlib\n",
    "print (\"Mapltolib version:    %6.6s (need at least 1.2.1)\" % matplotlib.__version__)\n",
    "\n",
    "# SciKit Learn implements several Machine Learning algorithms\n",
    "import sklearn\n",
    "print (\"Scikit-Learn version: %6.6s (need at least 0.13.1)\" % sklearn.__version__)\n",
    "\n",
    "# Requests is a library for getting data from the Web\n",
    "import requests\n",
    "print (\"requests version:     %6.6s (need at least 1.2.3)\" % requests.__version__)\n",
    "\n",
    "# Networkx is a library for working with networks\n",
    "import networkx as nx\n",
    "print (\"NetworkX version:     %6.6s (need at least 1.7)\" % nx.__version__)\n",
    "\n",
    "#BeautifulSoup is a library to parse HTML and XML documents\n",
    "#import beautifulsoup4\n",
    "import bs4\n",
    "print (\"BeautifulSoup version:%6.6s (need at least 3.2)\" % bs4.__version__)\n",
    "\n",
    "#MrJob is a library to run map reduce jobs on Amazon's computers\n",
    "import mrjob\n",
    "print (\"Mr Job version:       %6.6s (need at least 0.4)\" % mrjob.__version__)\n",
    "\n",
    "#Pattern has lots of tools for working with data from the internet\n",
    "import pattern\n",
    "print (\"Pattern version:      %6.6s (need at least 2.6)\" % pattern.__version__)"
   ]
  },
  {
   "cell_type": "markdown",
   "metadata": {},
   "source": [
    "If any of these libraries are missing or out of date, you will need to [install them](https://github.com/cs109/content/wiki/Installing-Python#installing-additional-libraries) and restart IPython"
   ]
  },
  {
   "cell_type": "markdown",
   "metadata": {},
   "source": [
    "## Hello matplotlib"
   ]
  },
  {
   "cell_type": "markdown",
   "metadata": {},
   "source": [
    "The notebook integrates nicely with Matplotlib, the primary plotting package for python. This should embed a figure of a sine wave:"
   ]
  },
  {
   "cell_type": "code",
   "execution_count": 5,
   "metadata": {
    "collapsed": false
   },
   "outputs": [
    {
     "data": {
      "text/plain": [
       "<matplotlib.text.Text at 0x117b8bc88>"
      ]
     },
     "execution_count": 5,
     "metadata": {},
     "output_type": "execute_result"
    },
    {
     "data": {
      "image/png": "[encoded data removed]",
      "text/plain": [
       "<matplotlib.figure.Figure at 0x114d40198>"
      ]
     },
     "metadata": {},
     "output_type": "display_data"
    }
   ],
   "source": [
    "#this line prepares IPython for working with matplotlib\n",
    "%matplotlib inline  \n",
    "\n",
    "# this actually imports matplotlib\n",
    "import matplotlib.pyplot as plt  \n",
    "\n",
    "x = np.linspace(0, 10, 30)  #array of 30 points from 0 to 10\n",
    "y = np.sin(x)\n",
    "z = y + np.random.normal(size=30) * .2\n",
    "plt.plot(x, y, 'ro-', label='A sine wave')\n",
    "plt.plot(x, z, 'b-', label='Noisy sine')\n",
    "plt.legend(loc = 'lower right')\n",
    "plt.xlabel(\"X axis\")\n",
    "plt.ylabel(\"Y axis\")           "
   ]
  },
  {
   "cell_type": "markdown",
   "metadata": {},
   "source": [
    "If that last cell complained about the `%matplotlib` line, you need to update IPython to v1.0, and restart the notebook. See the [installation page](https://github.com/cs109/content/wiki/Installing-Python)"
   ]
  },
  {
   "cell_type": "markdown",
   "metadata": {},
   "source": [
    "## Hello Numpy\n",
    "\n",
    "The Numpy array processing library is the basis of nearly all numerical computing in Python. Here's a 30 second crash course. For more details, consult Chapter 4 of Python for Data Analysis, or the [Numpy User's Guide](http://docs.scipy.org/doc/numpy-dev/user/index.html)"
   ]
  },
  {
   "cell_type": "code",
   "execution_count": 27,
   "metadata": {
    "collapsed": false
   },
   "outputs": [
    {
     "name": "stdout",
     "output_type": "stream",
     "text": [
      "Make a 3 row x 4 column array of random numbers\n",
      "[[ 0.22855629  0.17427162  0.64526004  0.74295902]\n",
      " [ 0.34273758  0.70386141  0.35124342  0.73847942]\n",
      " [ 0.60740051  0.63028822  0.60735982  0.1842157 ]]\n",
      "Add 1 to every element\n",
      "[[ 1.22855629  1.17427162  1.64526004  1.74295902]\n",
      " [ 1.34273758  1.70386141  1.35124342  1.73847942]\n",
      " [ 1.60740051  1.63028822  1.60735982  1.1842157 ]]\n",
      "Get the element at row 1, column 2\n",
      "1.35124342377\n",
      "Get the first row\n",
      "[ 1.22855629  1.17427162  1.64526004  1.74295902]\n",
      "Get every 2nd column of the first row\n",
      "[ 1.22855629  1.64526004]\n"
     ]
    },
    {
     "data": {
      "text/plain": [
       "<function print>"
      ]
     },
     "execution_count": 27,
     "metadata": {},
     "output_type": "execute_result"
    }
   ],
   "source": [
    "print (\"Make a 3 row x 4 column array of random numbers\")\n",
    "x = np.random.random((3, 4))\n",
    "print (x)\n",
    "print\n",
    "\n",
    "print (\"Add 1 to every element\")\n",
    "x = x + 1\n",
    "print (x)\n",
    "print\n",
    "\n",
    "print (\"Get the element at row 1, column 2\")\n",
    "print (x[1, 2])\n",
    "print\n",
    "\n",
    "# The colon syntax is called \"slicing\" the array. \n",
    "print (\"Get the first row\")\n",
    "print (x[0, :])\n",
    "print\n",
    "\n",
    "print (\"Get every 2nd column of the first row\")\n",
    "print (x[0, ::2])\n",
    "print"
   ]
  },
  {
   "cell_type": "code",
   "execution_count": null,
   "metadata": {
    "collapsed": true
   },
   "outputs": [],
   "source": [
    "x = np.random"
   ]
  },
  {
   "cell_type": "markdown",
   "metadata": {},
   "source": [
    "Print the maximum, minimum, and mean of the array. This does **not** require writing a loop. In the code cell below, type `x.m<TAB>`, to find built-in operations for common array statistics like this"
   ]
  },
  {
   "cell_type": "code",
   "execution_count": 12,
   "metadata": {
    "collapsed": false
   },
   "outputs": [
    {
     "name": "stdout",
     "output_type": "stream",
     "text": [
      "1.92291326396\n",
      "1.00098833104\n",
      "1.45798265717\n"
     ]
    }
   ],
   "source": [
    "#your code here\n",
    "print (x.max())\n",
    "print (x.min())\n",
    "print (x.mean())"
   ]
  },
  {
   "cell_type": "markdown",
   "metadata": {},
   "source": [
    "Call the `x.max` function again, but use the `axis` keyword to print the maximum of each row in x."
   ]
  },
  {
   "cell_type": "code",
   "execution_count": 15,
   "metadata": {
    "collapsed": false
   },
   "outputs": [
    {
     "data": {
      "text/plain": [
       "array([ 1.92291326,  1.43728661,  1.81705175])"
      ]
     },
     "execution_count": 15,
     "metadata": {},
     "output_type": "execute_result"
    }
   ],
   "source": [
    "#your code here\n",
    "x.max(axis = 1)\n"
   ]
  },
  {
   "cell_type": "markdown",
   "metadata": {},
   "source": [
    "Here's a way to quickly simulate 500 coin \"fair\" coin tosses (where the probabily of getting Heads is 50%, or 0.5)"
   ]
  },
  {
   "cell_type": "code",
   "execution_count": 18,
   "metadata": {
    "collapsed": false
   },
   "outputs": [
    {
     "name": "stdout",
     "output_type": "stream",
     "text": [
      "number of heads: 213\n"
     ]
    }
   ],
   "source": [
    "x = np.random.binomial(500, .5)\n",
    "x = np.random.binomial?\n",
    "print (\"number of heads:\", x)"
   ]
  },
  {
   "cell_type": "code",
   "execution_count": 19,
   "metadata": {
    "collapsed": true
   },
   "outputs": [],
   "source": [
    "x = np.random.binomial"
   ]
  },
  {
   "cell_type": "markdown",
   "metadata": {},
   "source": [
    "Repeat this simulation 500 times, and use the [plt.hist() function](http://matplotlib.org/api/pyplot_api.html#matplotlib.pyplot.hist) to plot a histogram of the number of Heads (1s) in each simulation"
   ]
  },
  {
   "cell_type": "code",
   "execution_count": 26,
   "metadata": {
    "collapsed": false
   },
   "outputs": [
    {
     "data": {
      "text/plain": [
       "(array([  2.,   0.,   0.,   0.,   0.,   0.,   0.,   0.,   1.,   0.,   0.,\n",
       "          0.,   0.,   0.,   0.,   0.,   3.,   0.,   0.,   0.,   0.,   0.,\n",
       "          0.,   0.,   0.,   1.,   0.,   0.,   0.,   0.,   0.,   0.,   0.,\n",
       "          0.,   0.,   0.,   0.,   0.,   0.,   0.,   0.,   1.,   0.,   0.,\n",
       "          0.,   0.,   0.,   0.,   0.,   0.,   2.,   0.,   0.,   0.,   0.,\n",
       "          0.,   0.,   0.,   2.,   0.,   0.,   0.,   0.,   0.,   0.,   0.,\n",
       "          2.,   0.,   0.,   0.,   0.,   0.,   0.,   0.,   0.,   3.,   0.,\n",
       "          0.,   0.,   0.,   0.,   0.,   0.,   3.,   0.,   0.,   0.,   0.,\n",
       "          0.,   0.,   0.,   6.,   0.,   0.,   0.,   0.,   0.,   0.,   0.,\n",
       "          0.,   3.,   0.,   0.,   0.,   0.,   0.,   0.,   0.,   5.,   0.,\n",
       "          0.,   0.,   0.,   0.,   0.,   0.,  10.,   0.,   0.,   0.,   0.,\n",
       "          0.,   0.,   0.,   0.,  11.,   0.,   0.,   0.,   0.,   0.,   0.,\n",
       "          0.,  12.,   0.,   0.,   0.,   0.,   0.,   0.,   0.,  15.,   0.,\n",
       "          0.,   0.,   0.,   0.,   0.,   0.,   0.,  13.,   0.,   0.,   0.,\n",
       "          0.,   0.,   0.,   0.,  10.,   0.,   0.,   0.,   0.,   0.,   0.,\n",
       "          0.,   5.,   0.,   0.,   0.,   0.,   0.,   0.,   0.,   0.,  11.,\n",
       "          0.,   0.,   0.,   0.,   0.,   0.,   0.,  18.,   0.,   0.,   0.,\n",
       "          0.,   0.,   0.,   0.,  19.,   0.,   0.,   0.,   0.,   0.,   0.,\n",
       "          0.,   0.,  19.,   0.,   0.,   0.,   0.,   0.,   0.,   0.,  15.,\n",
       "          0.,   0.,   0.,   0.,   0.,   0.,   0.,  15.,   0.,   0.,   0.,\n",
       "          0.,   0.,   0.,   0.,   0.,  20.,   0.,   0.,   0.,   0.,   0.,\n",
       "          0.,   0.,  15.,   0.,   0.,   0.,   0.,   0.,   0.,   0.,  16.,\n",
       "          0.,   0.,   0.,   0.,   0.,   0.,   0.,   0.,  16.,   0.,   0.,\n",
       "          0.,   0.,   0.,   0.,   0.,  15.,   0.,   0.,   0.,   0.,   0.,\n",
       "          0.,   0.,  13.,   0.,   0.,   0.,   0.,   0.,   0.,   0.,   0.,\n",
       "         13.,   0.,   0.,   0.,   0.,   0.,   0.,   0.,  17.,   0.,   0.,\n",
       "          0.,   0.,   0.,   0.,   0.,  23.,   0.,   0.,   0.,   0.,   0.,\n",
       "          0.,   0.,   0.,  17.,   0.,   0.,   0.,   0.,   0.,   0.,   0.,\n",
       "         18.,   0.,   0.,   0.,   0.,   0.,   0.,   0.,  12.,   0.,   0.,\n",
       "          0.,   0.,   0.,   0.,   0.,   0.,  14.,   0.,   0.,   0.,   0.,\n",
       "          0.,   0.,   0.,   9.,   0.,   0.,   0.,   0.,   0.,   0.,   0.,\n",
       "          7.,   0.,   0.,   0.,   0.,   0.,   0.,   0.,   0.,   8.,   0.,\n",
       "          0.,   0.,   0.,   0.,   0.,   0.,  10.,   0.,   0.,   0.,   0.,\n",
       "          0.,   0.,   0.,   7.,   0.,   0.,   0.,   0.,   0.,   0.,   0.,\n",
       "          0.,   7.,   0.,   0.,   0.,   0.,   0.,   0.,   0.,   4.,   0.,\n",
       "          0.,   0.,   0.,   0.,   0.,   0.,   5.,   0.,   0.,   0.,   0.,\n",
       "          0.,   0.,   0.,   0.,   4.,   0.,   0.,   0.,   0.,   0.,   0.,\n",
       "          0.,   1.,   0.,   0.,   0.,   0.,   0.,   0.,   0.,   6.,   0.,\n",
       "          0.,   0.,   0.,   0.,   0.,   0.,   0.,   4.,   0.,   0.,   0.,\n",
       "          0.,   0.,   0.,   0.,   3.,   0.,   0.,   0.,   0.,   0.,   0.,\n",
       "          0.,   3.,   0.,   0.,   0.,   0.,   0.,   0.,   0.,   0.,   0.,\n",
       "          0.,   0.,   0.,   0.,   0.,   0.,   0.,   3.,   0.,   0.,   0.,\n",
       "          0.,   0.,   0.,   0.,   0.,   0.,   0.,   0.,   0.,   0.,   0.,\n",
       "          0.,   0.,   0.,   0.,   0.,   0.,   0.,   0.,   0.,   0.,   0.,\n",
       "          0.,   0.,   0.,   0.,   0.,   0.,   0.,   1.,   0.,   0.,   0.,\n",
       "          0.,   0.,   0.,   0.,   1.]),\n",
       " array([ 221.  ,  221.12,  221.24,  221.36,  221.48,  221.6 ,  221.72,\n",
       "         221.84,  221.96,  222.08,  222.2 ,  222.32,  222.44,  222.56,\n",
       "         222.68,  222.8 ,  222.92,  223.04,  223.16,  223.28,  223.4 ,\n",
       "         223.52,  223.64,  223.76,  223.88,  224.  ,  224.12,  224.24,\n",
       "         224.36,  224.48,  224.6 ,  224.72,  224.84,  224.96,  225.08,\n",
       "         225.2 ,  225.32,  225.44,  225.56,  225.68,  225.8 ,  225.92,\n",
       "         226.04,  226.16,  226.28,  226.4 ,  226.52,  226.64,  226.76,\n",
       "         226.88,  227.  ,  227.12,  227.24,  227.36,  227.48,  227.6 ,\n",
       "         227.72,  227.84,  227.96,  228.08,  228.2 ,  228.32,  228.44,\n",
       "         228.56,  228.68,  228.8 ,  228.92,  229.04,  229.16,  229.28,\n",
       "         229.4 ,  229.52,  229.64,  229.76,  229.88,  230.  ,  230.12,\n",
       "         230.24,  230.36,  230.48,  230.6 ,  230.72,  230.84,  230.96,\n",
       "         231.08,  231.2 ,  231.32,  231.44,  231.56,  231.68,  231.8 ,\n",
       "         231.92,  232.04,  232.16,  232.28,  232.4 ,  232.52,  232.64,\n",
       "         232.76,  232.88,  233.  ,  233.12,  233.24,  233.36,  233.48,\n",
       "         233.6 ,  233.72,  233.84,  233.96,  234.08,  234.2 ,  234.32,\n",
       "         234.44,  234.56,  234.68,  234.8 ,  234.92,  235.04,  235.16,\n",
       "         235.28,  235.4 ,  235.52,  235.64,  235.76,  235.88,  236.  ,\n",
       "         236.12,  236.24,  236.36,  236.48,  236.6 ,  236.72,  236.84,\n",
       "         236.96,  237.08,  237.2 ,  237.32,  237.44,  237.56,  237.68,\n",
       "         237.8 ,  237.92,  238.04,  238.16,  238.28,  238.4 ,  238.52,\n",
       "         238.64,  238.76,  238.88,  239.  ,  239.12,  239.24,  239.36,\n",
       "         239.48,  239.6 ,  239.72,  239.84,  239.96,  240.08,  240.2 ,\n",
       "         240.32,  240.44,  240.56,  240.68,  240.8 ,  240.92,  241.04,\n",
       "         241.16,  241.28,  241.4 ,  241.52,  241.64,  241.76,  241.88,\n",
       "         242.  ,  242.12,  242.24,  242.36,  242.48,  242.6 ,  242.72,\n",
       "         242.84,  242.96,  243.08,  243.2 ,  243.32,  243.44,  243.56,\n",
       "         243.68,  243.8 ,  243.92,  244.04,  244.16,  244.28,  244.4 ,\n",
       "         244.52,  244.64,  244.76,  244.88,  245.  ,  245.12,  245.24,\n",
       "         245.36,  245.48,  245.6 ,  245.72,  245.84,  245.96,  246.08,\n",
       "         246.2 ,  246.32,  246.44,  246.56,  246.68,  246.8 ,  246.92,\n",
       "         247.04,  247.16,  247.28,  247.4 ,  247.52,  247.64,  247.76,\n",
       "         247.88,  248.  ,  248.12,  248.24,  248.36,  248.48,  248.6 ,\n",
       "         248.72,  248.84,  248.96,  249.08,  249.2 ,  249.32,  249.44,\n",
       "         249.56,  249.68,  249.8 ,  249.92,  250.04,  250.16,  250.28,\n",
       "         250.4 ,  250.52,  250.64,  250.76,  250.88,  251.  ,  251.12,\n",
       "         251.24,  251.36,  251.48,  251.6 ,  251.72,  251.84,  251.96,\n",
       "         252.08,  252.2 ,  252.32,  252.44,  252.56,  252.68,  252.8 ,\n",
       "         252.92,  253.04,  253.16,  253.28,  253.4 ,  253.52,  253.64,\n",
       "         253.76,  253.88,  254.  ,  254.12,  254.24,  254.36,  254.48,\n",
       "         254.6 ,  254.72,  254.84,  254.96,  255.08,  255.2 ,  255.32,\n",
       "         255.44,  255.56,  255.68,  255.8 ,  255.92,  256.04,  256.16,\n",
       "         256.28,  256.4 ,  256.52,  256.64,  256.76,  256.88,  257.  ,\n",
       "         257.12,  257.24,  257.36,  257.48,  257.6 ,  257.72,  257.84,\n",
       "         257.96,  258.08,  258.2 ,  258.32,  258.44,  258.56,  258.68,\n",
       "         258.8 ,  258.92,  259.04,  259.16,  259.28,  259.4 ,  259.52,\n",
       "         259.64,  259.76,  259.88,  260.  ,  260.12,  260.24,  260.36,\n",
       "         260.48,  260.6 ,  260.72,  260.84,  260.96,  261.08,  261.2 ,\n",
       "         261.32,  261.44,  261.56,  261.68,  261.8 ,  261.92,  262.04,\n",
       "         262.16,  262.28,  262.4 ,  262.52,  262.64,  262.76,  262.88,\n",
       "         263.  ,  263.12,  263.24,  263.36,  263.48,  263.6 ,  263.72,\n",
       "         263.84,  263.96,  264.08,  264.2 ,  264.32,  264.44,  264.56,\n",
       "         264.68,  264.8 ,  264.92,  265.04,  265.16,  265.28,  265.4 ,\n",
       "         265.52,  265.64,  265.76,  265.88,  266.  ,  266.12,  266.24,\n",
       "         266.36,  266.48,  266.6 ,  266.72,  266.84,  266.96,  267.08,\n",
       "         267.2 ,  267.32,  267.44,  267.56,  267.68,  267.8 ,  267.92,\n",
       "         268.04,  268.16,  268.28,  268.4 ,  268.52,  268.64,  268.76,\n",
       "         268.88,  269.  ,  269.12,  269.24,  269.36,  269.48,  269.6 ,\n",
       "         269.72,  269.84,  269.96,  270.08,  270.2 ,  270.32,  270.44,\n",
       "         270.56,  270.68,  270.8 ,  270.92,  271.04,  271.16,  271.28,\n",
       "         271.4 ,  271.52,  271.64,  271.76,  271.88,  272.  ,  272.12,\n",
       "         272.24,  272.36,  272.48,  272.6 ,  272.72,  272.84,  272.96,\n",
       "         273.08,  273.2 ,  273.32,  273.44,  273.56,  273.68,  273.8 ,\n",
       "         273.92,  274.04,  274.16,  274.28,  274.4 ,  274.52,  274.64,\n",
       "         274.76,  274.88,  275.  ,  275.12,  275.24,  275.36,  275.48,\n",
       "         275.6 ,  275.72,  275.84,  275.96,  276.08,  276.2 ,  276.32,\n",
       "         276.44,  276.56,  276.68,  276.8 ,  276.92,  277.04,  277.16,\n",
       "         277.28,  277.4 ,  277.52,  277.64,  277.76,  277.88,  278.  ,\n",
       "         278.12,  278.24,  278.36,  278.48,  278.6 ,  278.72,  278.84,\n",
       "         278.96,  279.08,  279.2 ,  279.32,  279.44,  279.56,  279.68,\n",
       "         279.8 ,  279.92,  280.04,  280.16,  280.28,  280.4 ,  280.52,\n",
       "         280.64,  280.76,  280.88,  281.  ]),\n",
       " <a list of 500 Patch objects>)"
      ]
     },
     "execution_count": 26,
     "metadata": {},
     "output_type": "execute_result"
    },
    {
     "data": {
      "image/png": "[encoded data removed]",
      "text/plain": [
       "<matplotlib.figure.Figure at 0x117f3f4e0>"
      ]
     },
     "metadata": {},
     "output_type": "display_data"
    }
   ],
   "source": [
    "#your code here\n",
    "heads = []\n",
    "for i in range(1,500):\n",
    "    heads.append(np.random.binomial(500, .5))\n",
    "plt.hist(heads, bins =500)    \n"
   ]
  },
  {
   "cell_type": "markdown",
   "metadata": {},
   "source": [
    "## The Monty Hall Problem\n",
    "\n",
    "\n",
    "Here's a fun and perhaps surprising statistical riddle, and a good way to get some practice writing python functions\n",
    "\n",
    "In a gameshow, contestants try to guess which of 3 closed doors contain a cash prize (goats are behind the other two doors). Of course, the odds of choosing the correct door are 1 in 3. As a twist, the host of the show occasionally opens a door after a contestant makes his or her choice. This door is always one of the two the contestant did not pick, and is also always one of the goat doors (note that it is always possible to do this, since there are two goat doors). At this point, the contestant has the option of keeping his or her original choice, or swtiching to the other unopened door. The question is: is there any benefit to switching doors? The answer surprises many people who haven't heard the question before.\n",
    "\n",
    "We can answer the problem by running simulations in Python. We'll do it in several parts.\n",
    "\n",
    "First, write a function called `simulate_prizedoor`. This function will simulate the location of the prize in many games -- see the detailed specification below:"
   ]
  },
  {
   "cell_type": "code",
   "execution_count": 37,
   "metadata": {
    "collapsed": false
   },
   "outputs": [
    {
     "name": "stdout",
     "output_type": "stream",
     "text": [
      "[1 1 1 0 1 2 1 1 2 1]\n"
     ]
    }
   ],
   "source": [
    "\"\"\"\n",
    "Function\n",
    "--------\n",
    "simulate_prizedoor\n",
    "\n",
    "Generate a random array of 0s, 1s, and 2s, representing\n",
    "hiding a prize between door 0, door 1, and door 2\n",
    "\n",
    "Parameters\n",
    "----------\n",
    "nsim : int\n",
    "    The number of simulations to run\n",
    "\n",
    "Returns\n",
    "-------\n",
    "sims : array\n",
    "    Random array of 0s, 1s, and 2s\n",
    "\n",
    "Example\n",
    "-------\n",
    ">>> print simulate_prizedoor(3)\n",
    "array([0, 0, 2])\n",
    "\"\"\"\n",
    "def simulate_prizedoor(nsim):\n",
    "    #compute here\n",
    "    answer =np.random.random_integers(0,2,nsim)\n",
    "    return answer\n",
    "#your code here\n",
    "print (simulate_prizedoor(10))"
   ]
  },
  {
   "cell_type": "markdown",
   "metadata": {},
   "source": [
    "Next, write a function that simulates the contestant's guesses for `nsim` simulations. Call this function `simulate_guess`. The specs:"
   ]
  },
  {
   "cell_type": "code",
   "execution_count": 38,
   "metadata": {
    "collapsed": false
   },
   "outputs": [
    {
     "name": "stdout",
     "output_type": "stream",
     "text": [
      "[0 0 0 1 1 1 1 0 0 0]\n"
     ]
    }
   ],
   "source": [
    "\"\"\"\n",
    "Function\n",
    "--------\n",
    "simulate_guess\n",
    "\n",
    "Return any strategy for guessing which door a prize is behind. This\n",
    "could be a random strategy, one that always guesses 2, whatever.\n",
    "\n",
    "Parameters\n",
    "----------\n",
    "nsim : int\n",
    "    The number of simulations to generate guesses for\n",
    "\n",
    "Returns\n",
    "-------\n",
    "guesses : array\n",
    "    An array of guesses. Each guess is a 0, 1, or 2\n",
    "\n",
    "Example\n",
    "-------\n",
    ">>> print simulate_guess(5)\n",
    "array([0, 0, 0, 0, 0])\n",
    "\"\"\"\n",
    "#your code here\n",
    "def simulate_guess(nsim):\n",
    "    #compute here\n",
    "    answer =np.random.random_integers(0,1,nsim)\n",
    "    return answer\n",
    "#your code here\n",
    "print (simulate_guess(10))"
   ]
  },
  {
   "cell_type": "markdown",
   "metadata": {},
   "source": [
    "Next, write a function, `goat_door`, to simulate randomly revealing one of the goat doors that a contestant didn't pick."
   ]
  },
  {
   "cell_type": "code",
   "execution_count": 48,
   "metadata": {
    "collapsed": false
   },
   "outputs": [
    {
     "name": "stdout",
     "output_type": "stream",
     "text": [
      "[2 0 0 2]\n"
     ]
    }
   ],
   "source": [
    "\"\"\"\n",
    "Function\n",
    "--------\n",
    "goat_door\n",
    "\n",
    "Simulate the opening of a \"goat door\" that doesn't contain the prize,\n",
    "and is different from the contestants guess\n",
    "\n",
    "Parameters\n",
    "----------\n",
    "prizedoors : array\n",
    "    The door that the prize is behind in each simulation\n",
    "guesses : array\n",
    "    THe door that the contestant guessed in each simulation\n",
    "\n",
    "Returns\n",
    "-------\n",
    "goats : array\n",
    "    The goat door that is opened for each simulation. Each item is 0, 1, or 2, and is different\n",
    "    from both prizedoors and guesses\n",
    "\n",
    "Examples\n",
    "--------\n",
    ">>> print goat_door(np.array([0, 1, 2]), np.array([1, 1, 1]))\n",
    ">>> array([2, 2, 0])\n",
    "\"\"\"\n",
    "def goat_door(prizedoors, guesses):\n",
    "    \n",
    "    #strategy: generate random answers, and\n",
    "    #keep updating until they satisfy the rule\n",
    "    #that they aren't a prizedoor or a guess\n",
    "    result = np.random.randint(0, 3, prizedoors.size)\n",
    "\n",
    "    while True:\n",
    "        bad = (result == prizedoors) | (result == guesses)\n",
    "        if not bad.any():\n",
    "            return result\n",
    "        result[bad] = np.random.randint(0, 3, bad.sum())\n",
    "   \n",
    "print (goat_door(np.array([0, 1, 2,1]), np.array([1, 1, 1,1])))\n",
    "\n"
   ]
  },
  {
   "cell_type": "markdown",
   "metadata": {},
   "source": [
    "Write a function, `switch_guess`, that represents the strategy of always switching a guess after the goat door is opened."
   ]
  },
  {
   "cell_type": "code",
   "execution_count": 49,
   "metadata": {
    "collapsed": false
   },
   "outputs": [
    {
     "name": "stdout",
     "output_type": "stream",
     "text": [
      "[2 0 0]\n"
     ]
    }
   ],
   "source": [
    "\"\"\"\n",
    "Function\n",
    "--------\n",
    "switch_guess\n",
    "\n",
    "The strategy that always switches a guess after the goat door is opened\n",
    "\n",
    "Parameters\n",
    "----------\n",
    "guesses : array\n",
    "     Array of original guesses, for each simulation\n",
    "goatdoors : array\n",
    "     Array of revealed goat doors for each simulation\n",
    "\n",
    "Returns\n",
    "-------\n",
    "The new door after switching. Should be different from both guesses and goatdoors\n",
    "\n",
    "Examples\n",
    "--------\n",
    ">>> print switch_guess(np.array([0, 1, 2]), np.array([1, 2, 1]))\n",
    ">>> array([2, 0, 0])\n",
    "\"\"\"\n",
    "#your code here\n",
    "def switch_guess(guesses, goatdoors):\n",
    "    \n",
    "    #strategy: generate random answers, and\n",
    "    #keep updating until they satisfy the rule\n",
    "    #that they aren't a guess or a goatdoor\n",
    "    result = np.random.randint(0, 3, guesses.size)\n",
    "\n",
    "    while True:\n",
    "        bad = (result == guesses) | (result == goatdoors)\n",
    "        if not bad.any():\n",
    "            return result\n",
    "        result[bad] = np.random.randint(0, 3, bad.sum())\n",
    "print (switch_guess(np.array([0, 1, 2]), np.array([1, 2, 1])))\n"
   ]
  },
  {
   "cell_type": "markdown",
   "metadata": {},
   "source": [
    "Last function: write a `win_percentage` function that takes an array of `guesses` and `prizedoors`, and returns the percent of correct guesses"
   ]
  },
  {
   "cell_type": "code",
   "execution_count": 56,
   "metadata": {
    "collapsed": false
   },
   "outputs": [
    {
     "name": "stdout",
     "output_type": "stream",
     "text": [
      "66.6666666667\n"
     ]
    }
   ],
   "source": [
    "\"\"\"\n",
    "Function\n",
    "--------\n",
    "win_percentage\n",
    "\n",
    "Calculate the percent of times that a simulation of guesses is correct\n",
    "\n",
    "Parameters\n",
    "-----------\n",
    "guesses : array\n",
    "    Guesses for each simulation\n",
    "prizedoors : array\n",
    "    Location of prize for each simulation\n",
    "\n",
    "Returns\n",
    "--------\n",
    "percentage : number between 0 and 100\n",
    "    The win percentage\n",
    "\n",
    "Examples\n",
    "---------\n",
    ">>> print win_percentage(np.array([0, 1, 2]), np.array([0, 0, 0]))\n",
    "33.333\n",
    "\"\"\"\n",
    "#your code here\n",
    "def win_percentage(guesses, prizedoors):\n",
    "    correct_guesses = guesses == prizedoors\n",
    "    answer =  correct_guesses.sum()/guesses.size*100\n",
    "    return answer\n",
    "print (win_percentage(np.array([0, 1, 2]), np.array([0, 2, 2])))"
   ]
  },
  {
   "cell_type": "markdown",
   "metadata": {},
   "source": [
    "Now, put it together. Simulate 10000 games where contestant keeps his original guess, and 10000 games where the contestant switches his door after a  goat door is revealed. Compute the percentage of time the contestant wins under either strategy. Is one strategy better than the other?"
   ]
  },
  {
   "cell_type": "code",
   "execution_count": 58,
   "metadata": {
    "collapsed": false
   },
   "outputs": [
    {
     "name": "stdout",
     "output_type": "stream",
     "text": [
      "Win Percentage - keep original\n",
      "33.17\n",
      "Win Percentage - switch guess\n",
      "66.83\n"
     ]
    }
   ],
   "source": [
    "#your code here\n",
    "\n",
    "#simulate prizedoors, guesses, goatdoors\n",
    "prizedoors = simulate_prizedoor(10000)\n",
    "guesses = simulate_guess(10000)\n",
    "goatdoors = goat_door(prizedoors, guesses)\n",
    "#compute win percent if keep original\n",
    "print(\"Win Percentage - keep original\")\n",
    "print(win_percentage(guesses,prizedoors))\n",
    "#compute win percent if switch guess\n",
    "switchedguesses = switch_guess(guesses,goatdoors)\n",
    "print(\"Win Percentage - switch guess\")\n",
    "print(win_percentage(switchedguesses,prizedoors))\n"
   ]
  },
  {
   "cell_type": "markdown",
   "metadata": {},
   "source": [
    "Many people find this answer counter-intuitive (famously, PhD mathematicians have incorrectly claimed the result must be wrong. Clearly, none of them knew Python). \n",
    "\n",
    "One of the best ways to build intuition about why opening a Goat door affects the odds is to re-run the experiment with 100 doors and one prize. If the game show host opens 98 goat doors after you make your initial selection, would you want to keep your first pick or switch? Can you generalize your simulation code to handle the case of `n` doors?"
   ]
  }
 ],
 "metadata": {
  "kernelspec": {
   "display_name": "Python 3",
   "language": "python",
   "name": "python3"
  },
  "language_info": {
   "codemirror_mode": {
    "name": "ipython",
    "version": 3
   },
   "file_extension": ".py",
   "mimetype": "text/x-python",
   "name": "python",
   "nbconvert_exporter": "python",
   "pygments_lexer": "ipython3",
   "version": "3.5.1"
  }
 },
 "nbformat": 4,
 "nbformat_minor": 0
}
