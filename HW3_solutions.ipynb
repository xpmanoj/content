{
 "cells": [
  {
   "cell_type": "markdown",
   "metadata": {},
   "source": [
    "# Homework 3. Bayesian Tomatoes\n",
    "\n",
    "<div class=\"banner-container\">\n",
    "<img src=\"http://content7.flixster.com/movie/11/16/81/11168101_det.jpg\" width=180>\n",
    "</div>\n",
    "\n",
    "<div class=\"banner-container\">\n",
    "<img src=\"http://content6.flixster.com/movie/11/15/15/11151508_det.jpg\" width=180>\n",
    "</div>\n",
    "\n",
    "<div class=\"banner-container\">\n",
    "<img src=\"http://content9.flixster.com/movie/11/16/61/11166199_det.jpg\" width=180>\n",
    "</div>\n",
    "\n",
    "<div class=\"clear\"> </div>\n",
    "\n",
    "<style type=\"text/css\">\n",
    ".banner-container {\n",
    "height:350px;\n",
    "margin-left: 30px;\n",
    "float:left;\n",
    "}\n",
    ".clear {\n",
    "clear:both;\n",
    "}\n",
    "</style>"
   ]
  },
  {
   "cell_type": "markdown",
   "metadata": {},
   "source": [
    "In this assignment, you'll be analyzing movie reviews from [Rotten Tomatoes](http://www.rottentomatoes.com). This assignment will cover:\n",
    "\n",
    " * Working with web APIs\n",
    " * Making and interpreting predictions from a Bayesian perspective\n",
    " * Using the Naive Bayes algorithm to predict whether a movie review is positive or negative\n",
    " * Using cross validation to optimize models\n",
    "\n",
    "Useful libraries for this assignment\n",
    "\n",
    "* [numpy](http://docs.scipy.org/doc/numpy-dev/user/index.html), for arrays\n",
    "* [scikit-learn](http://scikit-learn.org/stable/), for machine learning\n",
    "* [json](http://docs.python.org/2/library/json.html) for parsing JSON data from the web.\n",
    "* [pandas](http://pandas.pydata.org/), for data frames\n",
    "* [matplotlib](http://matplotlib.org/), for plotting\n",
    "* [requests](http://docs.python-requests.org/en/latest/), for downloading web content"
   ]
  },
  {
   "cell_type": "code",
   "execution_count": 1,
   "metadata": {
    "collapsed": false
   },
   "outputs": [
    {
     "name": "stderr",
     "output_type": "stream",
     "text": [
      "/Users/apple/anaconda/envs/python2/lib/python2.7/site-packages/matplotlib/__init__.py:872: UserWarning: axes.color_cycle is deprecated and replaced with axes.prop_cycle; please use the latter.\n",
      "  warnings.warn(self.msg_depr % (key, alt_key))\n"
     ]
    }
   ],
   "source": [
    "%matplotlib inline\n",
    "\n",
    "import json\n",
    "\n",
    "import requests\n",
    "import pandas as pd\n",
    "import numpy as np\n",
    "import matplotlib.pyplot as plt\n",
    "\n",
    "pd.set_option('display.width', 500)\n",
    "pd.set_option('display.max_columns', 30)\n",
    "\n",
    "# set some nicer defaults for matplotlib\n",
    "from matplotlib import rcParams\n",
    "\n",
    "#these colors come from colorbrewer2.org. Each is an RGB triplet\n",
    "dark2_colors = [(0.10588235294117647, 0.6196078431372549, 0.4666666666666667),\n",
    "                (0.8509803921568627, 0.37254901960784315, 0.00784313725490196),\n",
    "                (0.4588235294117647, 0.4392156862745098, 0.7019607843137254),\n",
    "                (0.9058823529411765, 0.1607843137254902, 0.5411764705882353),\n",
    "                (0.4, 0.6509803921568628, 0.11764705882352941),\n",
    "                (0.9019607843137255, 0.6705882352941176, 0.00784313725490196),\n",
    "                (0.6509803921568628, 0.4627450980392157, 0.11372549019607843),\n",
    "                (0.4, 0.4, 0.4)]\n",
    "\n",
    "rcParams['figure.figsize'] = (10, 6)\n",
    "rcParams['figure.dpi'] = 150\n",
    "rcParams['axes.color_cycle'] = dark2_colors\n",
    "rcParams['lines.linewidth'] = 2\n",
    "rcParams['axes.grid'] = False\n",
    "rcParams['axes.facecolor'] = 'white'\n",
    "rcParams['font.size'] = 14\n",
    "rcParams['patch.edgecolor'] = 'none'\n",
    "\n",
    "\n",
    "def remove_border(axes=None, top=False, right=False, left=True, bottom=True):\n",
    "    \"\"\"\n",
    "    Minimize chartjunk by stripping out unnecesary plot borders and axis ticks\n",
    "    \n",
    "    The top/right/left/bottom keywords toggle whether the corresponding plot border is drawn\n",
    "    \"\"\"\n",
    "    ax = axes or plt.gca()\n",
    "    ax.spines['top'].set_visible(top)\n",
    "    ax.spines['right'].set_visible(right)\n",
    "    ax.spines['left'].set_visible(left)\n",
    "    ax.spines['bottom'].set_visible(bottom)\n",
    "    \n",
    "    #turn off all ticks\n",
    "    ax.yaxis.set_ticks_position('none')\n",
    "    ax.xaxis.set_ticks_position('none')\n",
    "    \n",
    "    #now re-enable visibles\n",
    "    if top:\n",
    "        ax.xaxis.tick_top()\n",
    "    if bottom:\n",
    "        ax.xaxis.tick_bottom()\n",
    "    if left:\n",
    "        ax.yaxis.tick_left()\n",
    "    if right:\n",
    "        ax.yaxis.tick_right()"
   ]
  },
  {
   "cell_type": "markdown",
   "metadata": {},
   "source": [
    "## Introduction\n",
    "\n",
    "Rotten Tomatoes gathers movie reviews from critics. An [entry on the website](http://www.rottentomatoes.com/m/primer/reviews/?type=top_critics) typically consists of a short quote, a link to the full review, and a Fresh/Rotten classification which summarizes whether the critic liked/disliked the movie.\n",
    "\n",
    "\n",
    "When critics give quantitative ratings (say 3/4 stars, Thumbs up, etc.), determining the Fresh/Rotten classification is easy. However, publications like the New York Times don't assign numerical ratings to movies, and thus the Fresh/Rotten classification must be inferred from the text of the review itself.\n",
    "\n",
    "This basic task of categorizing text has many applications. All of the following questions boil down to text classification:\n",
    "\n",
    " * Is a movie review positive or negative?\n",
    " * Is an email spam, or not?\n",
    " * Is a comment on a blog discussion board appropriate, or not?\n",
    " * Is a tweet about your company positive, or not?\n",
    " \n",
    "\n",
    "Language is incredibly nuanced, and there is an entire field of computer science dedicated to the topic (Natural Language Processing). Nevertheless, we can construct basic language models using fairly straightforward techniques. \n",
    "\n",
    "## The Data\n",
    "\n",
    "You will be starting with a database of Movies, derived from the MovieLens dataset. This dataset includes information for about 10,000 movies, including the IMDB id for each movie. \n",
    "\n",
    "Your first task is to download Rotten Tomatoes reviews from 3000 of these movies, using the Rotten Tomatoes API (Application Programming Interface)."
   ]
  },
  {
   "cell_type": "markdown",
   "metadata": {},
   "source": [
    "### Working with Web APIs\n",
    "Web APIs are a more convenient way for programs to interact with websites. Rotten Tomatoes has a nice API that gives access to it's data in JSON format.\n",
    "\n",
    "To use this, you will first need to [register for an API key](http://developer.rottentomatoes.com/member/register). For \"application URL\", you can use anything -- it doesn't matter.\n",
    "\n",
    "After you have a key, the [documentation page](http://developer.rottentomatoes.com/iodocs) shows the various data you can fetch from Rotten Tomatoes -- each type of data lives at a different web address. The basic pattern for fetching this data with Python is as follows (compare this to the `Movie Reviews` tab on the documentation page):"
   ]
  },
  {
   "cell_type": "code",
   "execution_count": 2,
   "metadata": {
    "collapsed": false
   },
   "outputs": [
    {
     "data": {
      "text/plain": [
       "'\\napi_key = \\'YOUR KEY HERE\\'\\nmovie_id = \\'770672122\\'  # toy story 3\\nurl = \\'http://api.rottentomatoes.com/api/public/v1.0/movies/%s/reviews.json\\' % movie_id\\n\\n#these are \"get parameters\"\\noptions = {\\'review_type\\': \\'top_critic\\', \\'page_limit\\': 20, \\'page\\': 1, \\'apikey\\': api_key}\\ndata = requests.get(url, params=options).text\\ndata = json.loads(data)  # load a json string into a collection of lists and dicts\\n\\nprint json.dumps(data[\\'reviews\\'][0], indent=2)  # dump an object into a json string\\n'"
      ]
     },
     "execution_count": 2,
     "metadata": {},
     "output_type": "execute_result"
    }
   ],
   "source": [
    "\"\"\"\n",
    "api_key = 'YOUR KEY HERE'\n",
    "movie_id = '770672122'  # toy story 3\n",
    "url = 'http://api.rottentomatoes.com/api/public/v1.0/movies/%s/reviews.json' % movie_id\n",
    "\n",
    "#these are \"get parameters\"\n",
    "options = {'review_type': 'top_critic', 'page_limit': 20, 'page': 1, 'apikey': api_key}\n",
    "data = requests.get(url, params=options).text\n",
    "data = json.loads(data)  # load a json string into a collection of lists and dicts\n",
    "\n",
    "print json.dumps(data['reviews'][0], indent=2)  # dump an object into a json string\n",
    "\"\"\""
   ]
  },
  {
   "cell_type": "markdown",
   "metadata": {},
   "source": [
    "## Problem 1: Get the data\n",
    "Here's a chunk of the MovieLens Dataset:"
   ]
  },
  {
   "cell_type": "code",
   "execution_count": 3,
   "metadata": {
    "collapsed": false
   },
   "outputs": [
    {
     "name": "stderr",
     "output_type": "stream",
     "text": [
      "/Users/apple/anaconda/envs/python2/lib/python2.7/site-packages/ipykernel/__main__.py:7: FutureWarning: irow(i) is deprecated. Please use .iloc[i]\n"
     ]
    },
    {
     "data": {
      "text/plain": [
       "id                1\n",
       "title     Toy story\n",
       "imdbID       114709\n",
       "year           1995\n",
       "Name: 0, dtype: object"
      ]
     },
     "execution_count": 3,
     "metadata": {},
     "output_type": "execute_result"
    }
   ],
   "source": [
    "from io import StringIO  \n",
    "movie_txt = requests.get('https://raw.github.com/cs109/cs109_data/master/movies.dat').text\n",
    "movie_file = StringIO(movie_txt) # treat a string like a file\n",
    "movies = pd.read_csv(movie_file, delimiter='\\t')\n",
    "\n",
    "#print the first row\n",
    "movies[['id', 'title', 'imdbID', 'year']].irow(0)"
   ]
  },
  {
   "cell_type": "markdown",
   "metadata": {},
   "source": [
    "#### P1.1\n",
    "\n",
    "We'd like you to write a function that looks up the first 20 Top Critic Rotten Tomatoes reviews for a movie in the `movies` dataframe. This involves two steps:\n",
    "\n",
    "1. Use the `Movie Alias` API to look up the Rotten Tomatoes movie id from the IMDB id\n",
    "1. Use the `Movie Reviews` API to fetch the first 20 top-critic reviews for this movie\n",
    "\n",
    "Not all movies have Rotten Tomatoes IDs. In these cases, your function should return `None`. The detailed spec is below. We are giving you some freedom with how you implement this, but you'll probably want to break this task up into several small functions.\n",
    "\n",
    "**Hint**\n",
    "In some situations, the leading 0s in front of IMDB ids are important. IMDB ids have 7 digits"
   ]
  },
  {
   "cell_type": "code",
   "execution_count": 4,
   "metadata": {
    "collapsed": true
   },
   "outputs": [],
   "source": [
    "\"\"\"\n",
    "Function\n",
    "--------\n",
    "fetch_reviews(movies, row)\n",
    "\n",
    "Use the Rotten Tomatoes web API to fetch reviews for a particular movie\n",
    "\n",
    "Parameters\n",
    "----------\n",
    "movies : DataFrame \n",
    "  The movies data above\n",
    "row : int\n",
    "  The row of the movies DataFrame to use\n",
    "  \n",
    "Returns\n",
    "-------\n",
    "If you can match the IMDB id to a Rotten Tomatoes ID:\n",
    "  A DataFrame, containing the first 20 Top Critic reviews \n",
    "  for the movie. If a movie has less than 20 total reviews, return them all.\n",
    "  This should have the following columns:\n",
    "    critic : Name of the critic\n",
    "    fresh  : 'fresh' or 'rotten'\n",
    "    imdb   : IMDB id for the movie\n",
    "    publication: Publication that the critic writes for\n",
    "    quote  : string containing the movie review quote\n",
    "    review_data: Date of review\n",
    "    rtid   : Rotten Tomatoes ID for the movie\n",
    "    title  : Name of the movie\n",
    "    \n",
    "If you cannot match the IMDB id to a Rotten Tomatoes ID, return None\n",
    "\n",
    "Examples\n",
    "--------\n",
    ">>> reviews = fetch_reviews(movies, 0)\n",
    ">>> print len(reviews)\n",
    "20\n",
    ">>> print reviews.irow(1)\n",
    "critic                                               Derek Adams\n",
    "fresh                                                      fresh\n",
    "imdb                                                      114709\n",
    "publication                                             Time Out\n",
    "quote          So ingenious in concept, design and execution ...\n",
    "review_date                                           2009-10-04\n",
    "rtid                                                        9559\n",
    "title                                                  Toy story\n",
    "Name: 1, dtype: object\n",
    "\"\"\"\n",
    "#your code here\n",
    "def base_url():\n",
    "    return 'http://api.rottentomatoes.com/api/public/v1.0/'\n",
    "\n",
    "def rt_id_by_imdb(imdb):\n",
    "    \"\"\"\n",
    "    Queries the RT movie_alias API. Returns the RT id associated with an IMDB ID,\n",
    "    or raises a KeyError if no match was found\n",
    "    \"\"\"\n",
    "    url = base_url() + 'movie_alias.json'\n",
    "    \n",
    "    imdb = \"%7.7i\" % imdb\n",
    "    params = dict(id=imdb, type='imdb', apikey=api_key)\n",
    "    \n",
    "    r = requests.get(url, params=params).text\n",
    "    r = json.loads(r)\n",
    "    \n",
    "    return r['id']\n",
    "\n",
    "\n",
    "def _imdb_review(imdb):\n",
    "    \"\"\"\n",
    "    Query the RT reviews API, to return the first page of reviews \n",
    "    for a movie specified by its IMDB ID\n",
    "    \n",
    "    Returns a list of dicts\n",
    "    \"\"\"    \n",
    "    rtid = rt_id_by_imdb(imdb)\n",
    "    url = base_url() + 'movies/{0}/reviews.json'.format(rtid)\n",
    "\n",
    "    params = dict(review_type='top_critic',\n",
    "                  page_limit=20,\n",
    "                  page=1,\n",
    "                  country='us',\n",
    "                  apikey=api_key)\n",
    "    data = json.loads(requests.get(url, params=params).text)\n",
    "    data = data['reviews']\n",
    "    data = [dict(fresh=r['freshness'], \n",
    "                 quote=r['quote'], \n",
    "                 critic=r['critic'], \n",
    "                 publication=r['publication'], \n",
    "                 review_date=r['date'],\n",
    "                 imdb=imdb, rtid=rtid\n",
    "                 ) for r in data]\n",
    "    return data\n",
    "\n",
    "def fetch_reviews(movies, row):\n",
    "    m = movies.irow(row)\n",
    "    try:\n",
    "        result = pd.DataFrame(_imdb_review(m['imdbID']))\n",
    "        result['title'] = m['title']\n",
    "    except KeyError:\n",
    "        return None\n",
    "    return result"
   ]
  },
  {
   "cell_type": "markdown",
   "metadata": {},
   "source": [
    "#### P1.2\n",
    "\n",
    "Use the function you wrote to retrieve reviews for the first 3,000 movies in the movies dataframe.\n",
    "\n",
    "##### Hints\n",
    "* Rotten Tomatoes limits you to **10,000 API requests a day**. Be careful about this limit! Test your code on smaller inputs before scaling. You are responsible if you hit the limit the day the assignment is due :)\n",
    "* This will take a while to download. If you don't want to re-run this function every time you restart the notebook, you can save and re-load this data as a CSV file. However, please don't submit this file"
   ]
  },
  {
   "cell_type": "code",
   "execution_count": 5,
   "metadata": {
    "collapsed": false
   },
   "outputs": [],
   "source": [
    "\"\"\"\n",
    "Function\n",
    "--------\n",
    "build_table\n",
    "\n",
    "Parameters\n",
    "----------\n",
    "movies : DataFrame\n",
    "  The movies data above\n",
    "rows : int\n",
    "  The number of rows to extract reviews for\n",
    "  \n",
    "Returns\n",
    "--------\n",
    "A dataframe\n",
    "  The data obtained by repeatedly calling `fetch_reviews` on the first `rows`\n",
    "  of `movies`, discarding the `None`s,\n",
    "  and concatenating the results into a single DataFrame\n",
    "\"\"\"\n",
    "#your code here\n",
    "def build_table(movies, rows):\n",
    "    dfs = [fetch_reviews(movies, r) for r in range(rows)]\n",
    "    dfs = [d for d in dfs if d is not None]\n",
    "    return pd.concat(dfs, ignore_index=True)"
   ]
  },
  {
   "cell_type": "code",
   "execution_count": 6,
   "metadata": {
    "collapsed": false
   },
   "outputs": [],
   "source": [
    "#you can toggle which lines are commented, if you\n",
    "#want to re-load your results to avoid repeatedly calling this function\n",
    "\n",
    "#critics = build_table(movies, 3000)\n",
    "#critics.to_csv('critics.csv', index=False)\n",
    "critics = pd.read_csv('critics.csv')\n",
    "\n",
    "\n",
    "#for this assignment, let's drop rows with missing quotes\n",
    "critics = critics[~critics.quote.isnull()]"
   ]
  },
  {
   "cell_type": "markdown",
   "metadata": {},
   "source": [
    "## Problem 2: Explore\n",
    "\n",
    "Before delving into analysis, get a sense of what these data look like. Answer the following questions. Include your code!"
   ]
  },
  {
   "cell_type": "markdown",
   "metadata": {},
   "source": [
    "**2.1** How many reviews, critics, and movies are in this dataset?\n"
   ]
  },
  {
   "cell_type": "code",
   "execution_count": 7,
   "metadata": {
    "collapsed": false
   },
   "outputs": [
    {
     "name": "stdout",
     "output_type": "stream",
     "text": [
      "Number of reviews: 15948\n",
      "Number of critics: 683\n",
      "Number of movies:  1590\n"
     ]
    }
   ],
   "source": [
    "#your code here\n",
    "n_reviews = len(critics)\n",
    "n_movies = critics.rtid.unique().size\n",
    "n_critics = critics.critic.unique().size\n",
    "\n",
    "\n",
    "print \"Number of reviews: %i\" % n_reviews\n",
    "print \"Number of critics: %i\" % n_critics\n",
    "print \"Number of movies:  %i\" % n_movies"
   ]
  },
  {
   "cell_type": "markdown",
   "metadata": {},
   "source": [
    "**2.2** What does the distribution of number of reviews per reviewer look like? Make a histogram"
   ]
  },
  {
   "cell_type": "code",
   "execution_count": 8,
   "metadata": {
    "collapsed": false
   },
   "outputs": [
    {
     "data": {
      "image/png": "[encoded data removed]",
      "text/plain": [
       "<matplotlib.figure.Figure at 0x1195bea50>"
      ]
     },
     "metadata": {},
     "output_type": "display_data"
    }
   ],
   "source": [
    "#Your code here\n",
    "def histogram_style():\n",
    "    remove_border(left=False)\n",
    "    plt.grid(False)\n",
    "    plt.grid(axis='y', color='w', linestyle='-', lw=1)\n",
    "\n",
    "critics.groupby('critic').rtid.count().hist(log=True, bins=range(20), edgecolor='white')\n",
    "plt.xlabel(\"Number of reviews per critic\")\n",
    "plt.ylabel(\"N\")\n",
    "histogram_style()"
   ]
  },
  {
   "cell_type": "markdown",
   "metadata": {},
   "source": [
    "**2.3** List the 5 critics with the most reviews, along with the publication they write for"
   ]
  },
  {
   "cell_type": "code",
   "execution_count": 9,
   "metadata": {
    "collapsed": false
   },
   "outputs": [
    {
     "name": "stderr",
     "output_type": "stream",
     "text": [
      "/Users/apple/anaconda/envs/python2/lib/python2.7/site-packages/ipykernel/__main__.py:5: FutureWarning: sort is deprecated, use sort_values(inplace=True) for INPLACE sorting\n"
     ]
    },
    {
     "data": {
      "text/plain": [
       "critic              publication      \n",
       "Roger Ebert         Chicago Sun-Times    1051\n",
       "James Berardinelli  ReelViews             805\n",
       "Janet Maslin        New York Times        549\n",
       "Desson Thomson      Washington Post       488\n",
       "Jonathan Rosenbaum  Chicago Reader        423\n",
       "Name: critic, dtype: int64"
      ]
     },
     "execution_count": 9,
     "metadata": {},
     "output_type": "execute_result"
    }
   ],
   "source": [
    "#Your code here\n",
    "#note: there are a few valid ways to deal with critics that write for several publications.\n",
    "\n",
    "counts = critics.groupby(['critic', 'publication']).critic.count()\n",
    "counts.sort()\n",
    "counts[-1:-6:-1]"
   ]
  },
  {
   "cell_type": "markdown",
   "metadata": {},
   "source": [
    "**2.4** Of the critics with > 100 reviews, plot the distribution of average \"freshness\" rating per critic"
   ]
  },
  {
   "cell_type": "code",
   "execution_count": 10,
   "metadata": {
    "collapsed": false
   },
   "outputs": [
    {
     "data": {
      "image/png": "[encoded data removed]",
      "text/plain": [
       "<matplotlib.figure.Figure at 0x1195be610>"
      ]
     },
     "metadata": {},
     "output_type": "display_data"
    }
   ],
   "source": [
    "#Your code here\n",
    "\n",
    "df = critics.copy()\n",
    "df['fresh'] = df.fresh == 'fresh'\n",
    "grp = df.groupby('critic')\n",
    "counts = grp.critic.count()  # number of reviews by each critic\n",
    "means = grp.fresh.mean()     # average freshness for each critic\n",
    "\n",
    "means[counts > 100].hist(bins=10, edgecolor='w', lw=1)\n",
    "plt.xlabel(\"Average rating per critic\")\n",
    "plt.ylabel(\"N\")\n",
    "plt.yticks([0, 2, 4, 6, 8, 10])\n",
    "histogram_style()"
   ]
  },
  {
   "cell_type": "markdown",
   "metadata": {},
   "source": [
    "**2.5**\n",
    "Using the original `movies` dataframe, plot the rotten tomatoes Top Critics Rating as a function of year. Overplot the average for each year, ignoring the score=0 examples (some of these are missing data). Comment on the result -- is there a trend? What do you think it means?"
   ]
  },
  {
   "cell_type": "code",
   "execution_count": 11,
   "metadata": {
    "collapsed": false
   },
   "outputs": [
    {
     "name": "stderr",
     "output_type": "stream",
     "text": [
      "/Users/apple/anaconda/envs/python2/lib/python2.7/site-packages/ipykernel/__main__.py:4: FutureWarning: convert_objects is deprecated.  Use the data-type specific converters pd.to_datetime, pd.to_timedelta and pd.to_numeric.\n"
     ]
    },
    {
     "name": "stdout",
     "output_type": "stream",
     "text": [
      "      rtTopCriticsRating\n",
      "year                    \n",
      "1922            8.200000\n",
      "1925            5.800000\n",
      "1927            8.250000\n",
      "1928            8.100000\n",
      "1929            8.100000\n",
      "1930            7.850000\n",
      "1931            8.175000\n",
      "1932            7.600000\n",
      "1934            8.100000\n",
      "1935            8.033333\n",
      "1936            7.400000\n",
      "1937            8.000000\n",
      "1938            8.600000\n",
      "1939            8.350000\n",
      "1940            8.300000\n",
      "1941            8.100000\n",
      "1942            7.625000\n",
      "1943            7.500000\n",
      "1944            7.650000\n",
      "1945            8.050000\n",
      "1946            8.000000\n",
      "1947            7.625000\n",
      "1948            8.500000\n",
      "1949            8.200000\n",
      "1950            8.133333\n",
      "1951            7.500000\n",
      "1952            8.340000\n",
      "1953            8.237500\n",
      "1954            8.071429\n",
      "1955            7.866667\n",
      "...                  ...\n",
      "1980            7.100000\n",
      "1981            6.520000\n",
      "1982            6.733333\n",
      "1983            5.975000\n",
      "1984            6.500000\n",
      "1985            6.475000\n",
      "1986            6.588889\n",
      "1987            6.345455\n",
      "1988            6.085185\n",
      "1989            6.490625\n",
      "1990            6.102381\n",
      "1991            6.478947\n",
      "1992            5.910870\n",
      "1993            6.018421\n",
      "1994            5.786364\n",
      "1995            5.985827\n",
      "1996            6.086127\n",
      "1997            6.047449\n",
      "1998            5.973684\n",
      "1999            5.755856\n",
      "2000            5.656727\n",
      "2001            5.584483\n",
      "2002            5.864952\n",
      "2003            5.808696\n",
      "2004            5.676119\n",
      "2005            5.609818\n",
      "2006            5.732203\n",
      "2007            5.760627\n",
      "2008            5.537561\n",
      "2009            5.020000\n",
      "\n",
      "[84 rows x 1 columns]\n"
     ]
    },
    {
     "data": {
      "image/png": "[encoded data removed]",
      "text/plain": [
       "<matplotlib.figure.Figure at 0x1195bee50>"
      ]
     },
     "metadata": {},
     "output_type": "display_data"
    }
   ],
   "source": [
    "#Your code here\n",
    "\n",
    "data = movies[['year', 'rtTopCriticsRating']]\n",
    "data = data.convert_objects(convert_numeric=True)\n",
    "data = data[(data['rtTopCriticsRating'] > 0)]\n",
    "means = data.groupby('year').mean()\n",
    "print means\n",
    "plt.plot(data['year'], data['rtTopCriticsRating'], 'o', mec='none', alpha=.2, label='Data')\n",
    "plt.plot(means.index, means['rtTopCriticsRating'], '-', label='Yearly Average')\n",
    "plt.legend(loc='lower left', frameon=False)\n",
    "plt.xlabel(\"Year\")\n",
    "plt.ylabel(\"Average Score\")\n",
    "remove_border()"
   ]
  },
  {
   "cell_type": "markdown",
   "metadata": {},
   "source": [
    "**Answer** *This graph shows a trend towards a lower average score, as well as a greater abundance of low scores, with time. This is probably at least partially a selection effect -- Rotten Tomatoes probably doesn't archive reviews for all movies, especially ones that came out before the website existed. Thus, reviews of old movies are more often \"the classics\". Mediocre old movies have been partially forgotten, and are underrepresented in the data.*"
   ]
  },
  {
   "cell_type": "markdown",
   "metadata": {},
   "source": [
    "## Part 3: Sentiment Analysis\n",
    "\n",
    "You will now use a [Naive Bayes classifier](https://en.wikipedia.org/wiki/Naive_Bayes_classifier) to build a prediction model for whether a review is fresh or rotten, depending on the text of the review. See Lecture 9 for a discussion of Naive Bayes.\n",
    "\n",
    "Most models work with numerical data, so we need to convert the textual collection of reviews to something numerical. A common strategy for text classification is to represent each review as a \"bag of words\" vector -- a long vector\n",
    "of numbers encoding how many times a particular word appears in a blurb.\n",
    "\n",
    "Scikit-learn has an object called a `CountVectorizer` that turns text into a bag of words. Here's a quick tutorial:"
   ]
  },
  {
   "cell_type": "code",
   "execution_count": 12,
   "metadata": {
    "collapsed": false
   },
   "outputs": [
    {
     "name": "stdout",
     "output_type": "stream",
     "text": [
      "Original text is\n",
      "Hop on pop\n",
      "Hop off pop\n",
      "Hop Hop hop\n",
      "\n",
      "Transformed text vector is \n",
      "[[1 0 1 1]\n",
      " [1 1 0 1]\n",
      " [3 0 0 0]]\n",
      "\n",
      "Words for each feature:\n",
      "[u'hop', u'off', u'on', u'pop']\n"
     ]
    }
   ],
   "source": [
    "from sklearn.feature_extraction.text import CountVectorizer\n",
    "\n",
    "text = ['Hop on pop', 'Hop off pop', 'Hop Hop hop']\n",
    "print \"Original text is\\n\", '\\n'.join(text)\n",
    "\n",
    "vectorizer = CountVectorizer(min_df=0)\n",
    "\n",
    "# call `fit` to build the vocabulary\n",
    "vectorizer.fit(text)\n",
    "\n",
    "# call `transform` to convert text to a bag of words\n",
    "x = vectorizer.transform(text)\n",
    "\n",
    "# CountVectorizer uses a sparse array to save memory, but it's easier in this assignment to \n",
    "# convert back to a \"normal\" numpy array\n",
    "x = x.toarray()\n",
    "\n",
    "print\n",
    "print \"Transformed text vector is \\n\", x\n",
    "\n",
    "# `get_feature_names` tracks which word is associated with each column of the transformed x\n",
    "print\n",
    "print \"Words for each feature:\"\n",
    "print vectorizer.get_feature_names()\n",
    "\n",
    "# Notice that the bag of words treatment doesn't preserve information about the *order* of words, \n",
    "# just their frequency"
   ]
  },
  {
   "cell_type": "markdown",
   "metadata": {},
   "source": [
    "**3.1**\n",
    "\n",
    "Using the `critics` dataframe, compute a pair of numerical X, Y arrays where:\n",
    "    \n",
    " * X is a `(nreview, nwords)` array. Each row corresponds to a bag-of-words representation for a single review. This will be the *input* to your model.\n",
    " * Y is a `nreview`-element 1/0 array, encoding whether a review is Fresh (1) or Rotten (0). This is the desired *output* from your model.\n",
    " \n",
    "Make sure to remove items with no review text"
   ]
  },
  {
   "cell_type": "code",
   "execution_count": 13,
   "metadata": {
    "collapsed": false
   },
   "outputs": [],
   "source": [
    "#hint: Consult the scikit-learn documentation to\n",
    "#      learn about what these classes do do\n",
    "from sklearn.cross_validation import train_test_split\n",
    "from sklearn.naive_bayes import MultinomialNB\n",
    "\n",
    "\"\"\"\n",
    "Function\n",
    "--------\n",
    "make_xy\n",
    "\n",
    "Build a bag-of-words training set for the review data\n",
    "\n",
    "Parameters\n",
    "-----------\n",
    "critics : Pandas DataFrame\n",
    "    The review data from above\n",
    "    \n",
    "vectorizer : CountVectorizer object (optional)\n",
    "    A CountVectorizer object to use. If None,\n",
    "    then create and fit a new CountVectorizer.\n",
    "    Otherwise, re-fit the provided CountVectorizer\n",
    "    using the critics data\n",
    "    \n",
    "Returns\n",
    "-------\n",
    "X : numpy array (dims: nreview, nwords)\n",
    "    Bag-of-words representation for each review.\n",
    "Y : numpy array (dims: nreview)\n",
    "    1/0 array. 1 = fresh review, 0 = rotten review\n",
    "\n",
    "Examples\n",
    "--------\n",
    "X, Y = make_xy(critics)\n",
    "\"\"\"\n",
    "def make_xy(critics, vectorizer=None):\n",
    "    #Your code here    \n",
    "    if vectorizer is None:\n",
    "        vectorizer = CountVectorizer()\n",
    "    X = vectorizer.fit_transform(critics.quote)\n",
    "    X = X.tocsc()  # some versions of sklearn return COO format\n",
    "    Y = (critics.fresh == 'fresh').values.astype(np.int)\n",
    "    return X, Y"
   ]
  },
  {
   "cell_type": "code",
   "execution_count": 14,
   "metadata": {
    "collapsed": false
   },
   "outputs": [],
   "source": [
    "X, Y = make_xy(critics)"
   ]
  },
  {
   "cell_type": "markdown",
   "metadata": {},
   "source": [
    "\n",
    "**3.2** Next, randomly split the data into two groups: a\n",
    "training set and a validation set. \n",
    "\n",
    "Use the training set to train a `MultinomialNB` classifier,\n",
    "and print the accuracy of this model on the validation set\n",
    "\n",
    "**Hint**\n",
    "You can use `train_test_split` to split up the training data"
   ]
  },
  {
   "cell_type": "code",
   "execution_count": 15,
   "metadata": {
    "collapsed": false
   },
   "outputs": [
    {
     "name": "stdout",
     "output_type": "stream",
     "text": [
      "Accuracy: 80.34%\n"
     ]
    }
   ],
   "source": [
    "#Your code here\n",
    "xtrain, xtest, ytrain, ytest = train_test_split(X, Y)\n",
    "clf = MultinomialNB().fit(xtrain, ytrain)\n",
    "\n",
    "print \"Accuracy: %0.2f%%\" % (100 * clf.score(xtest, ytest))"
   ]
  },
  {
   "cell_type": "markdown",
   "metadata": {},
   "source": [
    "**3.3:**\n",
    "\n",
    "We say a model is **overfit** if it performs better on the training data than on the test data. Is this model overfit? If so, how much more accurate is the model on the training data compared to the test data?"
   ]
  },
  {
   "cell_type": "code",
   "execution_count": 16,
   "metadata": {
    "collapsed": false
   },
   "outputs": [
    {
     "name": "stdout",
     "output_type": "stream",
     "text": [
      "Accuracy on training data: 0.92\n",
      "Accuracy on test data:     0.80\n"
     ]
    }
   ],
   "source": [
    "# Your code here. Print the accuracy on the test and training dataset\n",
    "training_accuracy = clf.score(xtrain, ytrain)\n",
    "test_accuracy = clf.score(xtest, ytest)\n",
    "\n",
    "print \"Accuracy on training data: %0.2f\" % (training_accuracy)\n",
    "print \"Accuracy on test data:     %0.2f\" % (test_accuracy)"
   ]
  },
  {
   "cell_type": "markdown",
   "metadata": {},
   "source": [
    "*Interpret these numbers in a few sentences here*\n",
    "\n",
    "**Answer** *Some overfitting seems to be happening here, since the error rate on the test data (23%) is more than twice as large as the error rate on the training data (10%). It's possible (though unlikely) that the accuracy difference is a product of chance, and not a symptom of overfitting. This could be tested with cross-validation, by repeatedly fitting and scoring the classifier on different train/test splits. If the performance on the training data is consistently better than the test data, then overfitting has occured. This is the case here.*"
   ]
  },
  {
   "cell_type": "markdown",
   "metadata": {},
   "source": [
    "**3.4: Model Calibration**\n",
    "\n",
    "Bayesian models like the Naive Bayes classifier have the nice property that they compute probabilities of a particular classification -- the `predict_proba` and `predict_log_proba` methods of `MultinomialNB` compute these probabilities. \n",
    "\n",
    "Being the respectable Bayesian that you are, you should always assess whether these probabilities are **calibrated** -- that is, whether a prediction made with a confidence of `x%` is correct approximately `x%` of the time.\n",
    "\n",
    "Let's make a plot to assess model calibration. Schematically, we want something like this:\n",
    "\n",
    "<img src=\"http://i.imgur.com/ea5B6zr.png\" width=500px>\n",
    "\n",
    "In words, we want to:\n",
    "\n",
    "* Take a collection of examples, and compute the freshness probability for each using `clf.predict_proba`\n",
    "* Gather examples into bins of similar freshness probability (the diagram shows 5 groups -- you should use something closer to 20)\n",
    "* For each bin, count the number of examples in that bin, and compute the fraction of examples in the bin which are fresh\n",
    "* In the upper plot, graph the expected P(Fresh) (x axis) and observed freshness fraction (Y axis). Estimate the uncertainty in observed freshness fraction $F$ via the [equation](http://en.wikipedia.org/wiki/Binomial_proportion_confidence_interval) $\\sigma = \\sqrt{F (1-F) / N}$\n",
    "* Overplot the line y=x. This is the trend we would expect if the model is calibrated\n",
    "* In the lower plot, show the number of examples in each bin\n",
    "\n",
    "**Hints**\n",
    "\n",
    "The output of `clf.predict_proba(X)` is a `(N example, 2)` array. The first column gives the probability $P(Y=0)$ or  $P(Rotten)$, and the second gives $P(Y=1)$ or $P(Fresh)$.\n",
    "\n",
    "The above image is just a guideline -- feel free to explore other options!"
   ]
  },
  {
   "cell_type": "code",
   "execution_count": 17,
   "metadata": {
    "collapsed": false
   },
   "outputs": [],
   "source": [
    "\"\"\"\n",
    "Function\n",
    "--------\n",
    "calibration_plot\n",
    "\n",
    "Builds a plot like the one above, from a classifier and review data\n",
    "\n",
    "Inputs\n",
    "-------\n",
    "clf : Classifier object\n",
    "    A MultinomialNB classifier\n",
    "X : (Nexample, Nfeature) array\n",
    "    The bag-of-words data\n",
    "Y : (Nexample) integer array\n",
    "    1 if a review is Fresh\n",
    "\"\"\"    \n",
    "#your code here\n",
    "\n",
    "def calibration_plot(clf, xtest, ytest):\n",
    "    prob = clf.predict_proba(xtest)[:, 1]\n",
    "    outcome = ytest\n",
    "    data = pd.DataFrame(dict(prob=prob, outcome=outcome))\n",
    "\n",
    "    #group outcomes into bins of similar probability\n",
    "    bins = np.linspace(0, 1, 20)\n",
    "    cuts = pd.cut(prob, bins)\n",
    "    binwidth = bins[1] - bins[0]\n",
    "    \n",
    "    #freshness ratio and number of examples in each bin\n",
    "    cal = data.groupby(cuts).outcome.agg(['mean', 'count'])\n",
    "    cal['pmid'] = (bins[:-1] + bins[1:]) / 2\n",
    "    cal['sig'] = np.sqrt(cal.pmid * (1 - cal.pmid) / cal['count'])\n",
    "        \n",
    "    #the calibration plot\n",
    "    ax = plt.subplot2grid((3, 1), (0, 0), rowspan=2)\n",
    "    p = plt.errorbar(cal.pmid, cal['mean'], cal['sig'])\n",
    "    plt.plot(cal.pmid, cal.pmid, linestyle='--', lw=1, color='k')\n",
    "    plt.ylabel(\"Empirical P(Fresh)\")\n",
    "    remove_border(ax)\n",
    "    \n",
    "    #the distribution of P(fresh)\n",
    "    ax = plt.subplot2grid((3, 1), (2, 0), sharex=ax)\n",
    "    \n",
    "    plt.bar(left=cal.pmid - binwidth / 2, height=cal['count'],\n",
    "            width=.95 * (bins[1] - bins[0]),\n",
    "            fc=p[0].get_color())\n",
    "    \n",
    "    plt.xlabel(\"Predicted P(Fresh)\")\n",
    "    remove_border()\n",
    "    plt.ylabel(\"Number\")"
   ]
  },
  {
   "cell_type": "code",
   "execution_count": 18,
   "metadata": {
    "collapsed": false
   },
   "outputs": [
    {
     "data": {
      "image/png": "[encoded data removed]",
      "text/plain": [
       "<matplotlib.figure.Figure at 0x11b8c5ad0>"
      ]
     },
     "metadata": {},
     "output_type": "display_data"
    }
   ],
   "source": [
    "calibration_plot(clf, xtest, ytest)"
   ]
  },
  {
   "cell_type": "markdown",
   "metadata": {},
   "source": [
    "**3.5** We might say a model is *over-confident* if the freshness fraction is usually closer to 0.5 than expected (that is, there is more uncertainty than the model predicted). Likewise, a model is *under-confident* if the probabilities are usually further away from 0.5. Is this model generally over- or under-confident? "
   ]
  },
  {
   "cell_type": "markdown",
   "metadata": {},
   "source": [
    "**Answer** *This model is over-confident. For a properly calibrated model, we would expect ~10% of the P(Fresh)~0.1 reviews to actually be fresh. However, the actual freshness rate is closer to 30%. Likewise, for reviews where P(Fresh) ~0.9, the actuall freshness fraction is closer to 0.7. In other words, there is more uncertainty in the outcome than implied by the model.*"
   ]
  },
  {
   "cell_type": "markdown",
   "metadata": {},
   "source": [
    "#### Cross Validation\n",
    "\n",
    "Our classifier has a few free parameters. The two most important are:\n",
    "\n",
    " 1. The `min_df` keyword in `CountVectorizer`, which will ignore words which appear in fewer than `min_df` fraction of reviews. Words that appear only once or twice can lead to overfitting, since words which occur only a few times might correlate very well with Fresh/Rotten reviews by chance in the training dataset.\n",
    " \n",
    " 2. The [`alpha` keyword](http://scikit-learn.org/stable/modules/naive_bayes.html#multinomial-naive-bayes) in the Bayesian classifier is a \"smoothing parameter\" -- increasing the value decreases the sensitivity to any single feature, and tends to pull prediction probabilities closer to 50%. \n",
    "\n",
    "As discussed in lecture and HW2, a common technique for choosing appropriate values for these parameters is **cross-validation**. Let's choose good parameters by maximizing the cross-validated log-likelihood.\n",
    "\n",
    "**3.6** Using `clf.predict_logproba`, write a function that computes the log-likelihood of a dataset"
   ]
  },
  {
   "cell_type": "code",
   "execution_count": 19,
   "metadata": {
    "collapsed": false
   },
   "outputs": [
    {
     "data": {
      "text/plain": [
       "-1886.5902110016968"
      ]
     },
     "execution_count": 19,
     "metadata": {},
     "output_type": "execute_result"
    }
   ],
   "source": [
    "\"\"\"\n",
    "Function\n",
    "--------\n",
    "log_likelihood\n",
    "\n",
    "Compute the log likelihood of a dataset according to \n",
    "a bayesian classifier. \n",
    "The Log Likelihood is defined by\n",
    "\n",
    "L = Sum_fresh(logP(fresh)) + Sum_rotten(logP(rotten))\n",
    "\n",
    "Where Sum_fresh indicates a sum over all fresh reviews, \n",
    "and Sum_rotten indicates a sum over rotten reviews\n",
    "    \n",
    "Parameters\n",
    "----------\n",
    "clf : Bayesian classifier\n",
    "x : (nexample, nfeature) array\n",
    "    The input data\n",
    "y : (nexample) integer array\n",
    "    Whether each review is Fresh\n",
    "\"\"\"\n",
    "#your code here\n",
    "\n",
    "def log_likelihood(clf, x, y):\n",
    "    prob = clf.predict_log_proba(x)\n",
    "    rotten = y == 0\n",
    "    fresh = ~rotten\n",
    "    return prob[rotten, 0].sum() + prob[fresh, 1].sum()\n",
    "\n",
    "log_likelihood(clf,xtest,ytest)   "
   ]
  },
  {
   "cell_type": "markdown",
   "metadata": {},
   "source": [
    "Here's a function to estimate the cross-validated value of a scoring function, given a classifier and data"
   ]
  },
  {
   "cell_type": "code",
   "execution_count": 20,
   "metadata": {
    "collapsed": false
   },
   "outputs": [
    {
     "name": "stdout",
     "output_type": "stream",
     "text": [
      "-1282.28964567\n"
     ]
    }
   ],
   "source": [
    "from sklearn.cross_validation import KFold\n",
    "\n",
    "def cv_score(clf, x, y, score_func):\n",
    "    \"\"\"\n",
    "    Uses 5-fold cross validation to estimate a score of a classifier\n",
    "    \n",
    "    Inputs\n",
    "    ------\n",
    "    clf : Classifier object\n",
    "    x : Input feature vector\n",
    "    y : Input class labels\n",
    "    score_func : Function like log_likelihood, that takes (clf, x, y) as input,\n",
    "                 and returns a score\n",
    "                 \n",
    "    Returns\n",
    "    -------\n",
    "    The average score obtained by randomly splitting (x, y) into training and \n",
    "    test sets, fitting on the training set, and evaluating score_func on the test set\n",
    "    \n",
    "    Examples\n",
    "    cv_score(clf, x, y, log_likelihood)\n",
    "    \"\"\"\n",
    "    result = 0\n",
    "    nfold = 5\n",
    "    for train, test in KFold(y.size, nfold): # split data into train/test groups, 5 times\n",
    "        clf.fit(x[train], y[train]) # fit\n",
    "        result += score_func(clf, x[test], y[test]) # evaluate score function on held-out data\n",
    "    return result / nfold # average\n",
    "\n",
    "print cv_score(clf, xtrain, ytrain, log_likelihood)"
   ]
  },
  {
   "cell_type": "markdown",
   "metadata": {},
   "source": [
    "**3.7**\n",
    "\n",
    "Fill in the remaining code in this block, to loop over many values of `alpha` and `min_df` to determine\n",
    "which settings are \"best\" in the sense of maximizing the cross-validated log-likelihood"
   ]
  },
  {
   "cell_type": "code",
   "execution_count": 21,
   "metadata": {
    "collapsed": false
   },
   "outputs": [
    {
     "name": "stdout",
     "output_type": "stream",
     "text": [
      "Loglike: nan alpha: 0.000000 min_df: 0.000010\n",
      "Loglike: nan alpha: 0.000000 min_df: 0.000100\n",
      "Loglike: nan alpha: 0.000000 min_df: 0.001000\n",
      "Loglike: -2021.7535 alpha: 0.000000 min_df: 0.010000\n",
      "Loglike: -2127.5724 alpha: 0.000000 min_df: 0.100000\n",
      "Loglike: -2246.2923 alpha: 0.100000 min_df: 0.000010\n",
      "Loglike: -2247.1843 alpha: 0.100000 min_df: 0.000100\n",
      "Loglike: -1834.8717 alpha: 0.100000 min_df: 0.001000\n",
      "Loglike: -2021.6540 alpha: 0.100000 min_df: 0.010000\n",
      "Loglike: -2127.5721 alpha: 0.100000 min_df: 0.100000\n",
      "Loglike: -1609.6087 alpha: 1.000000 min_df: 0.000010\n",
      "Loglike: -1609.6367 alpha: 1.000000 min_df: 0.000100\n",
      "Loglike: -1761.1781 alpha: 1.000000 min_df: 0.001000\n",
      "Loglike: -2020.7872 alpha: 1.000000 min_df: 0.010000\n",
      "Loglike: -2127.5693 alpha: 1.000000 min_df: 0.100000\n",
      "Loglike: -2083.7120 alpha: 5.000000 min_df: 0.000010\n",
      "Loglike: -1736.8650 alpha: 5.000000 min_df: 0.000100\n",
      "Loglike: -1697.5308 alpha: 5.000000 min_df: 0.001000\n",
      "Loglike: -2017.4971 alpha: 5.000000 min_df: 0.010000\n",
      "Loglike: -2127.5581 alpha: 5.000000 min_df: 0.100000\n",
      "Loglike: -2895.2750 alpha: 10.000000 min_df: 0.000010\n",
      "Loglike: -2307.8519 alpha: 10.000000 min_df: 0.000100\n",
      "Loglike: -1693.5905 alpha: 10.000000 min_df: 0.001000\n",
      "Loglike: -2014.4540 alpha: 10.000000 min_df: 0.010000\n",
      "Loglike: -2127.5467 alpha: 10.000000 min_df: 0.100000\n",
      "Loglike: -4277.3954 alpha: 50.000000 min_df: 0.000010\n",
      "Loglike: -3910.7287 alpha: 50.000000 min_df: 0.000100\n",
      "Loglike: -2241.6088 alpha: 50.000000 min_df: 0.001000\n",
      "Loglike: -2013.6175 alpha: 50.000000 min_df: 0.010000\n",
      "Loglike: -2127.5479 alpha: 50.000000 min_df: 0.100000\n"
     ]
    }
   ],
   "source": [
    "#the grid of parameters to search over\n",
    "alphas = [0, .1, 1, 5, 10, 50]\n",
    "min_dfs = [1e-5, 1e-4, 1e-3, 1e-2, 1e-1]\n",
    "\n",
    "#Find the best value for alpha and min_df, and the best classifier\n",
    "best_alpha = None\n",
    "best_min_df = None\n",
    "max_loglike = -np.inf\n",
    "\n",
    "for alpha in alphas:\n",
    "    for min_df in min_dfs:         \n",
    "        vectorizer = CountVectorizer(min_df = min_df)       \n",
    "        X, Y = make_xy(critics, vectorizer)\n",
    "        \n",
    "        #your code here\n",
    "        clf = MultinomialNB(alpha=alpha)\n",
    "        loglike = cv_score(clf, X, Y, log_likelihood)\n",
    "        print \"Loglike: %.4f\"%loglike, \"alpha: %.6f\"%alpha, \"min_df: %.6f\"%min_df\n",
    "        if loglike > max_loglike:\n",
    "            max_loglike = loglike\n",
    "            best_alpha, best_min_df = alpha, min_df"
   ]
  },
  {
   "cell_type": "code",
   "execution_count": 22,
   "metadata": {
    "collapsed": false
   },
   "outputs": [
    {
     "name": "stdout",
     "output_type": "stream",
     "text": [
      "alpha: 1.000000\n",
      "min_df: 0.000010\n"
     ]
    }
   ],
   "source": [
    "print \"alpha: %f\" % best_alpha\n",
    "print \"min_df: %f\" % best_min_df"
   ]
  },
  {
   "cell_type": "markdown",
   "metadata": {},
   "source": [
    "**3.8** Now that you've determined values for alpha and min_df that optimize the cross-validated log-likelihood, repeat the steps in 3.1, 3.2, and 3.4 to train a final classifier with these parameters, re-evaluate the accuracy, and draw a new calibration plot."
   ]
  },
  {
   "cell_type": "code",
   "execution_count": 23,
   "metadata": {
    "collapsed": false
   },
   "outputs": [
    {
     "name": "stdout",
     "output_type": "stream",
     "text": [
      "Accuracy on training data: 0.93\n",
      "Accuracy on test data:     0.81\n"
     ]
    },
    {
     "data": {
      "image/png": "[encoded data removed]",
      "text/plain": [
       "<matplotlib.figure.Figure at 0x11b8b3c50>"
      ]
     },
     "metadata": {},
     "output_type": "display_data"
    }
   ],
   "source": [
    "#Your code here\n",
    "\n",
    "vectorizer = CountVectorizer(min_df=best_min_df)\n",
    "X, Y = make_xy(critics, vectorizer)\n",
    "xtrain, xtest, ytrain, ytest = train_test_split(X, Y)\n",
    "\n",
    "clf = MultinomialNB(alpha=best_alpha).fit(xtrain, ytrain)\n",
    "\n",
    "calibration_plot(clf, xtest, ytest)\n",
    "\n",
    "# Your code here. Print the accuracy on the test and training dataset\n",
    "training_accuracy = clf.score(xtrain, ytrain)\n",
    "test_accuracy = clf.score(xtest, ytest)\n",
    "\n",
    "print \"Accuracy on training data: %0.2f\" % (training_accuracy)\n",
    "print \"Accuracy on test data:     %0.2f\" % (test_accuracy)"
   ]
  },
  {
   "cell_type": "markdown",
   "metadata": {},
   "source": [
    "**3.9** Discuss the various ways in which Cross-Validation has affected the model. Is the new model more or less accurate? Is overfitting better or worse? Is the model more or less calibrated?"
   ]
  },
  {
   "cell_type": "markdown",
   "metadata": {},
   "source": [
    "**Answer** *The new model is slightly less accurate on the test data (74% vs 77% on the original model). However, it is both better calibrated and less over-fit than before. In other words, while the classification accuracy is slightly worse, the probabilities themselves are more accurate. The model is still slightly over-confident when making low P(Fresh) predictions. However, the calibration plot shows the model is usually within 1 error bar of the expected performance where P(Fresh) >= 0.2. Finally, the new model makes less-conclusive predictions on average -- the histogram in the calibration plot is more uniformly distributed, with fewer predictions clustered around P(Fresh) = 0 or 1.*"
   ]
  },
  {
   "cell_type": "markdown",
   "metadata": {},
   "source": [
    "*To think about/play with, but not to hand in: What would happen if you tried this again using a function besides the log-likelihood -- for example, the classification accuracy?*"
   ]
  },
  {
   "cell_type": "markdown",
   "metadata": {},
   "source": [
    "### Part 4: Interpretation. What words best predict a fresh or rotten review?\n",
    "\n",
    "**4.1**\n",
    "Using your classifier and the `vectorizer.get_feature_names` method, determine which words best predict a positive or negative review. Print the 10 words\n",
    "that best predict a \"fresh\" review, and the 10 words that best predict a \"rotten\" review. For each word, what is the model's probability of freshness if the word appears one time?\n",
    "\n",
    "#### Hints\n",
    "\n",
    "* Try computing the classification probability for a feature vector which consists of all 0s, except for a single 1. What does this probability refer to?\n",
    "\n",
    "* `np.eye` generates a matrix where the ith row is all 0s, except for the ith column which is 1."
   ]
  },
  {
   "cell_type": "code",
   "execution_count": 24,
   "metadata": {
    "collapsed": false
   },
   "outputs": [
    {
     "name": "stdout",
     "output_type": "stream",
     "text": [
      "Good words\t     P(fresh | word)\n",
      "            stunning 0.97\n",
      "            captures 0.97\n",
      "            touching 0.96\n",
      "          mainstream 0.96\n",
      "            expertly 0.95\n",
      "         astonishing 0.95\n",
      "              superb 0.95\n",
      "             delight 0.95\n",
      "             rousing 0.95\n",
      "              deftly 0.95\n",
      "Bad words\t     P(fresh | word)\n",
      "          schumacher 0.07\n",
      "           stretched 0.07\n",
      "               weren 0.07\n",
      "       unfortunately 0.07\n",
      "      disappointment 0.06\n",
      "             witless 0.06\n",
      "             unfunny 0.06\n",
      "           pointless 0.05\n",
      "            tiresome 0.05\n",
      "                lame 0.05\n"
     ]
    }
   ],
   "source": [
    "## Your code here\n",
    "\n",
    "words = np.array(vectorizer.get_feature_names())\n",
    "\n",
    "x = np.eye(xtest.shape[1])\n",
    "probs = clf.predict_log_proba(x)[:, 0]\n",
    "ind = np.argsort(probs) # returns sorted indices\n",
    "\n",
    "good_words = words[ind[:10]]\n",
    "bad_words = words[ind[-10:]]\n",
    "\n",
    "good_prob = probs[ind[:10]]\n",
    "bad_prob = probs[ind[-10:]]\n",
    "\n",
    "print \"Good words\\t     P(fresh | word)\"\n",
    "for w, p in zip(good_words, good_prob):\n",
    "    print \"%20s\" % w, \"%0.2f\" % (1 - np.exp(p)) \n",
    "print \"Bad words\\t     P(fresh | word)\"\n",
    "for w, p in zip(bad_words, bad_prob):\n",
    "    print \"%20s\" % w, \"%0.2f\" % (1 - np.exp(p))"
   ]
  },
  {
   "cell_type": "markdown",
   "metadata": {},
   "source": [
    "**4.2**\n",
    "\n",
    "One of the best sources for inspiration when trying to improve a model is to look at examples where the model performs poorly. \n",
    "\n",
    "Find 5 fresh and rotten reviews where your model performs particularly poorly. Print each review."
   ]
  },
  {
   "cell_type": "code",
   "execution_count": 25,
   "metadata": {
    "collapsed": false
   },
   "outputs": [
    {
     "name": "stdout",
     "output_type": "stream",
     "text": [
      "Mis-predicted Rotten quotes\n",
      "---------------------------\n",
      "What if this lesser-known chapter of German resistance had been more deeply captured? What if the moral conflicts running through this movie about love of country and revolt said more about Germany, war and, yes, genocide?\n",
      "\n",
      "Peter's Friends won't win over anyone looking for depth - as drama, it's pure popcorn - but the vignettes are swept along by Branagh's richly theatrical temperament and by the exuberant wit of the cast.\n",
      "\n",
      "A Star Wars that has not only lost much of its humor and charm but more important a good deal of its innocence, traveling in the process light years away from the shiny first magnitude of its original world.\n",
      "\n",
      "By its midpoint, however, Thornton has begun forcing both the film's poetry and the preternatural goodness of its simple-minded protagonist, and Sling Blade's sweet charms begin to curdle.\n",
      "\n",
      "In this film [Hughes] has created a character who is every teen-ager's fantasy, but in the process he has lost some of the authenticity of his other films.\n",
      "\n",
      "Mis-predicted Fresh quotes\n",
      "--------------------------\n",
      "When a group of actors this gifted and lively tries so good-naturedly to deliver such an obvious message, the audience is left in the position of trying to stop a tidal wave. You may hate yourself for responding, but you're smothered before you know it.\n",
      "\n",
      "A kind of insane logic seems to connect the sketches, if you look hard enough, but mostly the movie seems to exist in the present and be willing to try anything for a laugh.\n",
      "\n",
      "If [The Whole Nine Yards] should not have worked, then the sequel definitely shouldn't work, either. But, once again, it kind of does.\n",
      "\n",
      "The movie's appeal lies largely in its capacity for surprise, riffing off tired characters and pooped genres to produce, intermittently at least, a fresh new tone. Call it junkie humour.\n",
      "\n",
      "Consider this the big-screen equivalent of a beach read: Just turn off your brain and wallow in whatever turn-ons -- Whoopi and whoopee -- Stella offers.\n",
      "\n"
     ]
    },
    {
     "name": "stderr",
     "output_type": "stream",
     "text": [
      "/Users/apple/anaconda/envs/python2/lib/python2.7/site-packages/ipykernel/__main__.py:13: FutureWarning: irow(i) is deprecated. Please use .iloc[i] or .iat[i]\n",
      "/Users/apple/anaconda/envs/python2/lib/python2.7/site-packages/ipykernel/__main__.py:19: FutureWarning: irow(i) is deprecated. Please use .iloc[i] or .iat[i]\n"
     ]
    }
   ],
   "source": [
    "#Your code here\n",
    "x, y = make_xy(critics, vectorizer)\n",
    "\n",
    "prob = clf.predict_proba(x)[:, 0]\n",
    "predict = clf.predict(x)\n",
    "\n",
    "bad_rotten = np.argsort(prob[y == 0])[:5]\n",
    "bad_fresh = np.argsort(prob[y == 1])[-5:]\n",
    "\n",
    "print \"Mis-predicted Rotten quotes\"\n",
    "print '---------------------------'\n",
    "for row in bad_rotten:\n",
    "    print critics[y == 0].quote.irow(row)\n",
    "    print\n",
    "\n",
    "print \"Mis-predicted Fresh quotes\"\n",
    "print '--------------------------'\n",
    "for row in bad_fresh:\n",
    "    print critics[y == 1].quote.irow(row)\n",
    "    print"
   ]
  },
  {
   "cell_type": "markdown",
   "metadata": {},
   "source": [
    "**4.3** What do you notice about these mis-predictions? Naive Bayes classifiers assume that every word affects the probability independently of other words. In what way is this a bad assumption? In your answer, report your classifier's Freshness probability for the review \"This movie is not remarkable, touching, or superb in any way\"."
   ]
  },
  {
   "cell_type": "code",
   "execution_count": 26,
   "metadata": {
    "collapsed": false
   },
   "outputs": [
    {
     "data": {
      "text/plain": [
       "array([[  5.21579313e-04,   9.99478421e-01]])"
      ]
     },
     "execution_count": 26,
     "metadata": {},
     "output_type": "execute_result"
    }
   ],
   "source": [
    "clf.predict_proba(vectorizer.transform(['This movie is not remarkable, touching, or superb in any way']))"
   ]
  },
  {
   "cell_type": "markdown",
   "metadata": {},
   "source": [
    "**Answer** *Many mis-predictions seem due to the fact that the quotes use more ambivalent language -- quotes along the lines of \"this should have been a good movie, but it wasn't\". Words like \"but\", \"not\", etc. act to negate the sentiment of words. However, because Naive Bayes treats each word separately, it isn't able to capture these kind of word interactions. Because the quote \"this movie is not remarkable, touching, or superb in any way\" contains typically positive words like remarkabke/touching/superb, the classifier gives it P(Fresh)=0.98.*"
   ]
  },
  {
   "cell_type": "markdown",
   "metadata": {},
   "source": [
    "**4.4**\n",
    "If this was your final project, what are 3 things you would try in order to build a more effective review classifier? What other exploratory or explanatory visualizations do you think might be helpful?"
   ]
  },
  {
   "cell_type": "markdown",
   "metadata": {},
   "source": [
    "There are many things worth trying. Some examples:\n",
    "\n",
    "1. You could try to build a NB model where the features are word pairs instead of words. This would be smart enough to realize that \"not good\" and \"so good\" mean very different things. This technique doesn't scale very well, since these features are much more sparse (and hence harder to detect repeatable patterns within).\n",
    "2. You could try a model besides NB, that would allow for interactions between words -- for example, a Random Forest classifier.\n",
    "3. You could consider adding supplemental features -- information about genre, director, cast, etc.\n",
    "4. You could build a visualization that prints word reviews, and visually encodes each word with size or color to indicate how that word contributes to P(Fresh). For example, really bad words could show up as big and red, good words as big and green, common words as small and grey, etc."
   ]
  },
  {
   "cell_type": "markdown",
   "metadata": {},
   "source": [
    "### How to Submit\n",
    "\n",
    "To submit your homework, create a folder named lastname_firstinitial_hw3 and place this notebook file in the folder. Double check that this file is still called HW3.ipynb, and that it contains your solutions. Please do **not** include the critics.csv data file, if you created one. Compress the folder (please use .zip compression) and submit to the CS109 dropbox in the appropriate folder. If we cannot access your work because these directions are not followed correctly, we will not grade your work.\n"
   ]
  },
  {
   "cell_type": "markdown",
   "metadata": {},
   "source": [
    "---\n",
    "*css tweaks in this cell*\n",
    "<style>\n",
    "div.text_cell_render {\n",
    "    line-height: 150%;\n",
    "    font-size: 110%;\n",
    "    width: 800px;\n",
    "    margin-left:50px;\n",
    "    margin-right:auto;\n",
    "    }\n",
    "</style>"
   ]
  }
 ],
 "metadata": {
  "anaconda-cloud": {},
  "kernelspec": {
   "display_name": "Python [python2]",
   "language": "python",
   "name": "Python [python2]"
  },
  "language_info": {
   "codemirror_mode": {
    "name": "ipython",
    "version": 2
   },
   "file_extension": ".py",
   "mimetype": "text/x-python",
   "name": "python",
   "nbconvert_exporter": "python",
   "pygments_lexer": "ipython2",
   "version": "2.7.11"
  }
 },
 "nbformat": 4,
 "nbformat_minor": 0
}
